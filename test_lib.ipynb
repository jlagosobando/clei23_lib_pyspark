{
 "cells": [
  {
   "cell_type": "markdown",
   "metadata": {
    "application/vnd.databricks.v1+cell": {
     "cellMetadata": {},
     "inputWidgets": {},
     "nuid": "52dd6991-7a9a-4b02-bb5b-0b28ca115f8e",
     "showTitle": false,
     "title": ""
    }
   },
   "source": [
    "This cell is used to download and set the library repo."
   ]
  },
  {
   "cell_type": "code",
   "execution_count": 0,
   "metadata": {
    "application/vnd.databricks.v1+cell": {
     "cellMetadata": {
      "byteLimit": 2048000,
      "rowLimit": 10000
     },
     "inputWidgets": {},
     "nuid": "bde77ed3-0fde-4fcb-aabf-2f50e28e966b",
     "showTitle": false,
     "title": ""
    }
   },
   "outputs": [
    {
     "output_type": "display_data",
     "data": {
      "text/html": [
       "<style scoped>\n",
       "  .ansiout {\n",
       "    display: block;\n",
       "    unicode-bidi: embed;\n",
       "    white-space: pre-wrap;\n",
       "    word-wrap: break-word;\n",
       "    word-break: break-all;\n",
       "    font-family: \"Source Code Pro\", \"Menlo\", monospace;;\n",
       "    font-size: 13px;\n",
       "    color: #555;\n",
       "    margin-left: 4px;\n",
       "    line-height: 19px;\n",
       "  }\n",
       "</style>\n",
       "<div class=\"ansiout\">fatal: destination path &#39;clei23_lib_pyspark&#39; already exists and is not an empty directory.\r\n",
       "</div>"
      ]
     },
     "metadata": {
      "application/vnd.databricks.v1+output": {
       "addedWidgets": {},
       "arguments": {},
       "data": "<div class=\"ansiout\">fatal: destination path &#39;clei23_lib_pyspark&#39; already exists and is not an empty directory.\r\n</div>",
       "datasetInfos": [],
       "metadata": {},
       "removedWidgets": [],
       "type": "html"
      }
     },
     "output_type": "display_data"
    }
   ],
   "source": [
    "!git clone https://github.com/jlagosobando/clei23_lib_pyspark.git -b dev"
   ]
  },
  {
   "cell_type": "markdown",
   "metadata": {
    "application/vnd.databricks.v1+cell": {
     "cellMetadata": {},
     "inputWidgets": {},
     "nuid": "a8e697d2-0d58-4f34-9d2c-1f527efe7337",
     "showTitle": false,
     "title": ""
    }
   },
   "source": [
    "This code allow using the library."
   ]
  },
  {
   "cell_type": "code",
   "execution_count": 0,
   "metadata": {
    "application/vnd.databricks.v1+cell": {
     "cellMetadata": {
      "byteLimit": 2048000,
      "rowLimit": 10000
     },
     "inputWidgets": {},
     "nuid": "4f79c976-6de9-4700-a24c-fedd713e0587",
     "showTitle": false,
     "title": ""
    }
   },
   "outputs": [
    {
     "output_type": "display_data",
     "data": {
      "text/html": [
       "<style scoped>\n",
       "  .ansiout {\n",
       "    display: block;\n",
       "    unicode-bidi: embed;\n",
       "    white-space: pre-wrap;\n",
       "    word-wrap: break-word;\n",
       "    word-break: break-all;\n",
       "    font-family: \"Source Code Pro\", \"Menlo\", monospace;;\n",
       "    font-size: 13px;\n",
       "    color: #555;\n",
       "    margin-left: 4px;\n",
       "    line-height: 19px;\n",
       "  }\n",
       "</style>\n",
       "<div class=\"ansiout\"></div>"
      ]
     },
     "metadata": {
      "application/vnd.databricks.v1+output": {
       "addedWidgets": {},
       "arguments": {},
       "data": "<div class=\"ansiout\"></div>",
       "datasetInfos": [],
       "metadata": {},
       "removedWidgets": [],
       "type": "html"
      }
     },
     "output_type": "display_data"
    }
   ],
   "source": [
    "import sys\n",
    "sys.path.append('/databricks/driver/clei23_lib_pyspark/bdsanalytics/') # Adding the library directory\n",
    "import bdsanalytics as bds\n",
    "from pyspark.sql import SparkSession\n",
    "from pyspark.sql.types import *\n",
    "from pyspark.sql.functions import *"
   ]
  },
  {
   "cell_type": "code",
   "execution_count": 0,
   "metadata": {
    "application/vnd.databricks.v1+cell": {
     "cellMetadata": {
      "byteLimit": 2048000,
      "rowLimit": 10000
     },
     "inputWidgets": {},
     "nuid": "81a759e9-c9d4-4bd5-8e0b-617185e181a9",
     "showTitle": false,
     "title": ""
    }
   },
   "outputs": [
    {
     "output_type": "display_data",
     "data": {
      "text/html": [
       "<style scoped>\n",
       "  .ansiout {\n",
       "    display: block;\n",
       "    unicode-bidi: embed;\n",
       "    white-space: pre-wrap;\n",
       "    word-wrap: break-word;\n",
       "    word-break: break-all;\n",
       "    font-family: \"Source Code Pro\", \"Menlo\", monospace;;\n",
       "    font-size: 13px;\n",
       "    color: #555;\n",
       "    margin-left: 4px;\n",
       "    line-height: 19px;\n",
       "  }\n",
       "</style>\n",
       "<div class=\"ansiout\"></div>"
      ]
     },
     "metadata": {
      "application/vnd.databricks.v1+output": {
       "addedWidgets": {},
       "arguments": {},
       "data": "<div class=\"ansiout\"></div>",
       "datasetInfos": [],
       "metadata": {},
       "removedWidgets": [],
       "type": "html"
      }
     },
     "output_type": "display_data"
    }
   ],
   "source": [
    "spark = SparkSession.builder.getOrCreate()"
   ]
  },
  {
   "cell_type": "markdown",
   "metadata": {
    "application/vnd.databricks.v1+cell": {
     "cellMetadata": {},
     "inputWidgets": {},
     "nuid": "53d03d84-e79b-404f-8193-4b617a97e8fb",
     "showTitle": false,
     "title": ""
    }
   },
   "source": [
    "# Load data\n",
    "\n",
    "Select file option from [**here!**](https://github.com/jlagosobando/clei23_lib_pyspark/tree/dev/notebooks/csv)"
   ]
  },
  {
   "cell_type": "code",
   "execution_count": 0,
   "metadata": {
    "application/vnd.databricks.v1+cell": {
     "cellMetadata": {
      "byteLimit": 2048000,
      "rowLimit": 10000
     },
     "inputWidgets": {},
     "nuid": "fd8029ce-6aab-4a62-9f59-a89032108b14",
     "showTitle": false,
     "title": ""
    }
   },
   "outputs": [
    {
     "output_type": "display_data",
     "data": {
      "text/html": [
       "<style scoped>\n",
       "  .ansiout {\n",
       "    display: block;\n",
       "    unicode-bidi: embed;\n",
       "    white-space: pre-wrap;\n",
       "    word-wrap: break-word;\n",
       "    word-break: break-all;\n",
       "    font-family: \"Source Code Pro\", \"Menlo\", monospace;;\n",
       "    font-size: 13px;\n",
       "    color: #555;\n",
       "    margin-left: 4px;\n",
       "    line-height: 19px;\n",
       "  }\n",
       "</style>\n",
       "<div class=\"ansiout\"></div>"
      ]
     },
     "metadata": {
      "application/vnd.databricks.v1+output": {
       "addedWidgets": {},
       "arguments": {},
       "data": "<div class=\"ansiout\"></div>",
       "datasetInfos": [],
       "metadata": {},
       "removedWidgets": [],
       "type": "html"
      }
     },
     "output_type": "display_data"
    }
   ],
   "source": [
    "filename = 'used_cars_data.csv'\n",
    "df_cars = spark.read.csv('dbfs:/mnt/ctr01/csv/' + filename, header=True,inferSchema=True )"
   ]
  },
  {
   "cell_type": "code",
   "execution_count": 0,
   "metadata": {
    "application/vnd.databricks.v1+cell": {
     "cellMetadata": {
      "byteLimit": 2048000,
      "rowLimit": 10000
     },
     "inputWidgets": {},
     "nuid": "d74b34e1-903e-4e42-8a3a-9968bb27ab15",
     "showTitle": false,
     "title": ""
    }
   },
   "outputs": [
    {
     "output_type": "display_data",
     "data": {
      "text/html": [
       "<style scoped>\n",
       "  .ansiout {\n",
       "    display: block;\n",
       "    unicode-bidi: embed;\n",
       "    white-space: pre-wrap;\n",
       "    word-wrap: break-word;\n",
       "    word-break: break-all;\n",
       "    font-family: \"Source Code Pro\", \"Menlo\", monospace;;\n",
       "    font-size: 13px;\n",
       "    color: #555;\n",
       "    margin-left: 4px;\n",
       "    line-height: 19px;\n",
       "  }\n",
       "</style>\n",
       "<div class=\"ansiout\">_c0 | string -&gt; integer\n",
       "brand | string -&gt; string\n",
       "model | string -&gt; string\n",
       "price (eur) | string -&gt; integer\n",
       "engine | string -&gt; string\n",
       "year | string -&gt; integer\n",
       "mileage (kms) | string -&gt; integer\n",
       "fuel | string -&gt; string\n",
       "gearbox | string -&gt; string\n",
       "location | string -&gt; string\n",
       "</div>"
      ]
     },
     "metadata": {
      "application/vnd.databricks.v1+output": {
       "addedWidgets": {},
       "arguments": {},
       "data": "<div class=\"ansiout\">_c0 | string -&gt; integer\nbrand | string -&gt; string\nmodel | string -&gt; string\nprice (eur) | string -&gt; integer\nengine | string -&gt; string\nyear | string -&gt; integer\nmileage (kms) | string -&gt; integer\nfuel | string -&gt; string\ngearbox | string -&gt; string\nlocation | string -&gt; string\n</div>",
       "datasetInfos": [],
       "metadata": {},
       "removedWidgets": [],
       "type": "html"
      }
     },
     "output_type": "display_data"
    }
   ],
   "source": [
    "filename = 'cars_null.csv'\n",
    "df_null = spark.read.csv('dbfs:/mnt/ctr01/csv/' + filename, header=True,inferSchema=True )\n",
    "df_infer_cars = bds.inferSchema(df_null)"
   ]
  },
  {
   "cell_type": "markdown",
   "metadata": {
    "application/vnd.databricks.v1+cell": {
     "cellMetadata": {},
     "inputWidgets": {},
     "nuid": "b441be4e-7926-463b-b6fb-751aff03b133",
     "showTitle": false,
     "title": ""
    }
   },
   "source": [
    "## Testing Imputación"
   ]
  },
  {
   "cell_type": "code",
   "execution_count": 0,
   "metadata": {
    "application/vnd.databricks.v1+cell": {
     "cellMetadata": {
      "byteLimit": 2048000,
      "rowLimit": 10000
     },
     "inputWidgets": {},
     "nuid": "7ecc9b65-663e-462c-861b-825163f46fb9",
     "showTitle": false,
     "title": ""
    }
   },
   "outputs": [
    {
     "output_type": "display_data",
     "data": {
      "text/html": [
       "<style scoped>\n",
       "  .ansiout {\n",
       "    display: block;\n",
       "    unicode-bidi: embed;\n",
       "    white-space: pre-wrap;\n",
       "    word-wrap: break-word;\n",
       "    word-break: break-all;\n",
       "    font-family: \"Source Code Pro\", \"Menlo\", monospace;;\n",
       "    font-size: 13px;\n",
       "    color: #555;\n",
       "    margin-left: 4px;\n",
       "    line-height: 19px;\n",
       "  }\n",
       "</style>\n",
       "<div class=\"ansiout\">opcion de moda\n",
       "</div>"
      ]
     },
     "metadata": {
      "application/vnd.databricks.v1+output": {
       "addedWidgets": {},
       "arguments": {},
       "data": "<div class=\"ansiout\">opcion de moda\n</div>",
       "datasetInfos": [],
       "metadata": {},
       "removedWidgets": [],
       "type": "html"
      }
     },
     "output_type": "display_data"
    },
    {
     "output_type": "display_data",
     "data": {
      "text/html": [
       "<style scoped>\n",
       "  .table-result-container {\n",
       "    max-height: 300px;\n",
       "    overflow: auto;\n",
       "  }\n",
       "  table, th, td {\n",
       "    border: 1px solid black;\n",
       "    border-collapse: collapse;\n",
       "  }\n",
       "  th, td {\n",
       "    padding: 5px;\n",
       "  }\n",
       "  th {\n",
       "    text-align: left;\n",
       "  }\n",
       "</style><div class='table-result-container'><table class='table-result'><thead style='background-color: white'><tr><th>_c0</th><th>brand</th><th>model</th><th>price (eur)</th><th>engine</th><th>year</th><th>mileage (kms)</th><th>fuel</th><th>gearbox</th><th>location</th></tr></thead><tbody><tr><td>0</td><td>SEAT</td><td>Ibiza</td><td>8990</td><td>SC 1.2 TSI 90cv Style</td><td>2016</td><td>67000</td><td>Gasolina</td><td>Manual</td><td>Granollers</td></tr><tr><td>1</td><td>Hyundai</td><td>i30</td><td>null</td><td>1.6 CRDi 110cv Tecno</td><td>2014</td><td>104868</td><td>Diésel</td><td>Manual</td><td>Viladecans</td></tr><tr><td>2</td><td>BMW</td><td>Serie 5</td><td>13490</td><td>530d Touring</td><td>2011</td><td>137566</td><td>Diésel</td><td>Automatica</td><td>Viladecans</td></tr><tr><td>3</td><td>Volkswagen</td><td>Golf</td><td>24990</td><td>GTI 2.0 TSI 169kW (230CV)</td><td>2018</td><td>44495</td><td>Gasolina</td><td>Manual</td><td>Viladecans</td></tr><tr><td>4</td><td>Opel</td><td>Corsa</td><td>10460</td><td>1.4 Expression 90 CV</td><td>2016</td><td>69800</td><td>Diésel</td><td>Manual</td><td>Sabadell 1</td></tr></tbody></table></div>"
      ]
     },
     "metadata": {
      "application/vnd.databricks.v1+output": {
       "addedWidgets": {},
       "aggData": [],
       "aggError": "",
       "aggOverflow": false,
       "aggSchema": [],
       "aggSeriesLimitReached": false,
       "aggType": "",
       "arguments": {},
       "columnCustomDisplayInfos": {},
       "data": [
        [
         0,
         "SEAT",
         "Ibiza",
         8990,
         "SC 1.2 TSI 90cv Style",
         2016,
         67000,
         "Gasolina",
         "Manual",
         "Granollers"
        ],
        [
         1,
         "Hyundai",
         "i30",
         null,
         "1.6 CRDi 110cv Tecno",
         2014,
         104868,
         "Diésel",
         "Manual",
         "Viladecans"
        ],
        [
         2,
         "BMW",
         "Serie 5",
         13490,
         "530d Touring",
         2011,
         137566,
         "Diésel",
         "Automatica",
         "Viladecans"
        ],
        [
         3,
         "Volkswagen",
         "Golf",
         24990,
         "GTI 2.0 TSI 169kW (230CV)",
         2018,
         44495,
         "Gasolina",
         "Manual",
         "Viladecans"
        ],
        [
         4,
         "Opel",
         "Corsa",
         10460,
         "1.4 Expression 90 CV",
         2016,
         69800,
         "Diésel",
         "Manual",
         "Sabadell 1"
        ]
       ],
       "datasetInfos": [],
       "dbfsResultPath": null,
       "isJsonSchema": true,
       "metadata": {},
       "overflow": false,
       "plotOptions": {
        "customPlotOptions": {},
        "displayType": "table",
        "pivotAggregation": null,
        "pivotColumns": null,
        "xColumns": null,
        "yColumns": null
       },
       "removedWidgets": [],
       "schema": [
        {
         "metadata": "{}",
         "name": "_c0",
         "type": "\"long\""
        },
        {
         "metadata": "{}",
         "name": "brand",
         "type": "\"string\""
        },
        {
         "metadata": "{}",
         "name": "model",
         "type": "\"string\""
        },
        {
         "metadata": "{}",
         "name": "price (eur)",
         "type": "\"long\""
        },
        {
         "metadata": "{}",
         "name": "engine",
         "type": "\"string\""
        },
        {
         "metadata": "{}",
         "name": "year",
         "type": "\"long\""
        },
        {
         "metadata": "{}",
         "name": "mileage (kms)",
         "type": "\"long\""
        },
        {
         "metadata": "{}",
         "name": "fuel",
         "type": "\"string\""
        },
        {
         "metadata": "{}",
         "name": "gearbox",
         "type": "\"string\""
        },
        {
         "metadata": "{}",
         "name": "location",
         "type": "\"string\""
        }
       ],
       "type": "table"
      }
     },
     "output_type": "display_data"
    }
   ],
   "source": [
    "df_limpio_cars = bds.imputacion(df_infer_cars , 'fuel' , 'moda')\n",
    "display(df_limpio_cars.head(5))"
   ]
  },
  {
   "cell_type": "code",
   "execution_count": 0,
   "metadata": {
    "application/vnd.databricks.v1+cell": {
     "cellMetadata": {
      "byteLimit": 2048000,
      "rowLimit": 10000
     },
     "inputWidgets": {},
     "nuid": "35e7d8ff-6de6-49e3-a49a-eccbb5c36d3b",
     "showTitle": false,
     "title": ""
    }
   },
   "outputs": [
    {
     "output_type": "display_data",
     "data": {
      "text/html": [
       "<style scoped>\n",
       "  .ansiout {\n",
       "    display: block;\n",
       "    unicode-bidi: embed;\n",
       "    white-space: pre-wrap;\n",
       "    word-wrap: break-word;\n",
       "    word-break: break-all;\n",
       "    font-family: \"Source Code Pro\", \"Menlo\", monospace;;\n",
       "    font-size: 13px;\n",
       "    color: #555;\n",
       "    margin-left: 4px;\n",
       "    line-height: 19px;\n",
       "  }\n",
       "</style>\n",
       "<div class=\"ansiout\">opcion de media\n",
       "</div>"
      ]
     },
     "metadata": {
      "application/vnd.databricks.v1+output": {
       "addedWidgets": {},
       "arguments": {},
       "data": "<div class=\"ansiout\">opcion de media\n</div>",
       "datasetInfos": [],
       "metadata": {},
       "removedWidgets": [],
       "type": "html"
      }
     },
     "output_type": "display_data"
    },
    {
     "output_type": "display_data",
     "data": {
      "text/html": [
       "<style scoped>\n",
       "  .table-result-container {\n",
       "    max-height: 300px;\n",
       "    overflow: auto;\n",
       "  }\n",
       "  table, th, td {\n",
       "    border: 1px solid black;\n",
       "    border-collapse: collapse;\n",
       "  }\n",
       "  th, td {\n",
       "    padding: 5px;\n",
       "  }\n",
       "  th {\n",
       "    text-align: left;\n",
       "  }\n",
       "</style><div class='table-result-container'><table class='table-result'><thead style='background-color: white'><tr><th>_c0</th><th>brand</th><th>model</th><th>price (eur)</th><th>engine</th><th>year</th><th>mileage (kms)</th><th>fuel</th><th>gearbox</th><th>location</th></tr></thead><tbody><tr><td>0</td><td>SEAT</td><td>Ibiza</td><td>8990</td><td>SC 1.2 TSI 90cv Style</td><td>2016</td><td>67000</td><td>Gasolina</td><td>Manual</td><td>Granollers</td></tr><tr><td>1</td><td>Hyundai</td><td>i30</td><td>14990</td><td>1.6 CRDi 110cv Tecno</td><td>2014</td><td>104868</td><td>null</td><td>Manual</td><td>Viladecans</td></tr><tr><td>2</td><td>BMW</td><td>Serie 5</td><td>13490</td><td>530d Touring</td><td>2011</td><td>137566</td><td>-</td><td>Automatica</td><td>Viladecans</td></tr><tr><td>3</td><td>Volkswagen</td><td>Golf</td><td>24990</td><td>GTI 2.0 TSI 169kW (230CV)</td><td>2018</td><td>44495</td><td>Gasolina</td><td>Manual</td><td>Viladecans</td></tr><tr><td>4</td><td>Opel</td><td>Corsa</td><td>10460</td><td>1.4 Expression 90 CV</td><td>2016</td><td>69800</td><td>\\n</td><td>Manual</td><td>Sabadell 1</td></tr></tbody></table></div>"
      ]
     },
     "metadata": {
      "application/vnd.databricks.v1+output": {
       "addedWidgets": {},
       "aggData": [],
       "aggError": "",
       "aggOverflow": false,
       "aggSchema": [],
       "aggSeriesLimitReached": false,
       "aggType": "",
       "arguments": {},
       "columnCustomDisplayInfos": {},
       "data": [
        [
         0,
         "SEAT",
         "Ibiza",
         8990,
         "SC 1.2 TSI 90cv Style",
         2016,
         67000,
         "Gasolina",
         "Manual",
         "Granollers"
        ],
        [
         1,
         "Hyundai",
         "i30",
         14990,
         "1.6 CRDi 110cv Tecno",
         2014,
         104868,
         "null",
         "Manual",
         "Viladecans"
        ],
        [
         2,
         "BMW",
         "Serie 5",
         13490,
         "530d Touring",
         2011,
         137566,
         "-",
         "Automatica",
         "Viladecans"
        ],
        [
         3,
         "Volkswagen",
         "Golf",
         24990,
         "GTI 2.0 TSI 169kW (230CV)",
         2018,
         44495,
         "Gasolina",
         "Manual",
         "Viladecans"
        ],
        [
         4,
         "Opel",
         "Corsa",
         10460,
         "1.4 Expression 90 CV",
         2016,
         69800,
         "\\n",
         "Manual",
         "Sabadell 1"
        ]
       ],
       "datasetInfos": [],
       "dbfsResultPath": null,
       "isJsonSchema": true,
       "metadata": {},
       "overflow": false,
       "plotOptions": {
        "customPlotOptions": {},
        "displayType": "table",
        "pivotAggregation": null,
        "pivotColumns": null,
        "xColumns": null,
        "yColumns": null
       },
       "removedWidgets": [],
       "schema": [
        {
         "metadata": "{}",
         "name": "_c0",
         "type": "\"long\""
        },
        {
         "metadata": "{}",
         "name": "brand",
         "type": "\"string\""
        },
        {
         "metadata": "{}",
         "name": "model",
         "type": "\"string\""
        },
        {
         "metadata": "{}",
         "name": "price (eur)",
         "type": "\"long\""
        },
        {
         "metadata": "{}",
         "name": "engine",
         "type": "\"string\""
        },
        {
         "metadata": "{}",
         "name": "year",
         "type": "\"long\""
        },
        {
         "metadata": "{}",
         "name": "mileage (kms)",
         "type": "\"long\""
        },
        {
         "metadata": "{}",
         "name": "fuel",
         "type": "\"string\""
        },
        {
         "metadata": "{}",
         "name": "gearbox",
         "type": "\"string\""
        },
        {
         "metadata": "{}",
         "name": "location",
         "type": "\"string\""
        }
       ],
       "type": "table"
      }
     },
     "output_type": "display_data"
    }
   ],
   "source": [
    "df_limpio_cars2 = bds.imputacion(df_infer_cars , 'price (eur)' , 'media')\n",
    "display(df_limpio_cars2.head(5))"
   ]
  },
  {
   "cell_type": "markdown",
   "metadata": {
    "application/vnd.databricks.v1+cell": {
     "cellMetadata": {},
     "inputWidgets": {},
     "nuid": "c49a299d-1552-4c43-8221-1fe4ab62a8eb",
     "showTitle": false,
     "title": ""
    }
   },
   "source": [
    "## Testing counting"
   ]
  },
  {
   "cell_type": "code",
   "execution_count": 0,
   "metadata": {
    "application/vnd.databricks.v1+cell": {
     "cellMetadata": {
      "byteLimit": 2048000,
      "rowLimit": 10000
     },
     "inputWidgets": {},
     "nuid": "d4ce036c-d475-4e33-9838-f2dbfa8d0051",
     "showTitle": false,
     "title": ""
    }
   },
   "outputs": [
    {
     "output_type": "display_data",
     "data": {
      "text/html": [
       "<style scoped>\n",
       "  .ansiout {\n",
       "    display: block;\n",
       "    unicode-bidi: embed;\n",
       "    white-space: pre-wrap;\n",
       "    word-wrap: break-word;\n",
       "    word-break: break-all;\n",
       "    font-family: \"Source Code Pro\", \"Menlo\", monospace;;\n",
       "    font-size: 13px;\n",
       "    color: #555;\n",
       "    margin-left: 4px;\n",
       "    line-height: 19px;\n",
       "  }\n",
       "</style>\n",
       "<div class=\"ansiout\">+--------+---------------+-------+-------+------------------+---------------+------------------+--------+------------------+-----------------+------------------+\n",
       "   brand|          model|t_count|sum__c0|           avg__c0|sum_price (eur)|   avg_price (eur)|sum_year|          avg_year|sum_mileage (kms)| avg_mileage (kms)|\n",
       "+--------+---------------+-------+-------+------------------+---------------+------------------+--------+------------------+-----------------+------------------+\n",
       " Hyundai|            i20|      2|    844|             422.0|          25170|           12585.0|    4037|            2018.5|            70876|           35438.0|\n",
       " Citroen|             C4|      5|   2102|             420.4|          42950|            8590.0|   10070|            2014.0|           684234|          136846.8|\n",
       "     Kia|           Ceed|     11|   5108| 464.3636363636364|         160990|14635.454545454546|   22204|2018.5454545454545|           628993|57181.181818181816|\n",
       " Hyundai|            i30|      6|   1343|223.83333333333334|          88410|           14735.0|   12102|            2017.0|           399143| 66523.83333333333|\n",
       "   Dacia|          Logan|      2|    948|             474.0|          16980|            8490.0|    4031|            2015.5|            55340|           27670.0|\n",
       "   Dacia|         Dokker|      3|   1656|             552.0|          33560|11186.666666666666|    6052|2017.3333333333333|           148348|49449.333333333336|\n",
       "     BMW|             X1|      5|   2109|             421.8|          84900|           16980.0|   10077|            2015.4|           614320|          122864.0|\n",
       "  Jaguar|             XF|      1|    544|             544.0|          10990|           10990.0|    2011|            2011.0|           163000|          163000.0|\n",
       "    Jeep|       Wrangler|      2|    783|             391.5|          61980|           30990.0|    4019|            2009.5|           245020|          122510.0|\n",
       " Citroen|    C4 Aircross|      1|    297|             297.0|          10990|           10990.0|    2012|            2012.0|            97500|           97500.0|\n",
       "   Smart|         Fortwo|      2|    751|             375.5|          22980|           11490.0|    4033|            2016.5|           119680|           59840.0|\n",
       "  Toyota|           C-HR|      5|   1022|             204.4|          90950|           18190.0|   10088|            2017.6|           400602|           80120.4|\n",
       "    Ford|          C-Max|      1|    139|             139.0|          10990|           10990.0|    2015|            2015.0|           120597|          120597.0|\n",
       "  Suzuki|         Vitara|      2|    932|             466.0|          32480|           16240.0|    4036|            2018.0|           159097|           79548.5|\n",
       "  Jaguar|             XE|      1|    335|             335.0|          22990|           22990.0|    2019|            2019.0|            51080|           51080.0|\n",
       "Mercedes| Benz Clase GLE|      1|    458|             458.0|          28990|           28990.0|    2016|            2016.0|           103500|          103500.0|\n",
       "    Ford|           Kuga|     11|   4625|420.45454545454544|         166890|15171.818181818182|   22177| 2016.090909090909|           864136| 78557.81818181818|\n",
       "    Audi|             Q2|      1|    661|             661.0|          21990|           21990.0|    2017|            2017.0|           106455|          106455.0|\n",
       "    Ford|Transit Connect|      1|     35|              35.0|          12490|           12490.0|    2014|            2014.0|           126400|          126400.0|\n",
       " Citroen|       Berlingo|      4|   1796|             449.0|          56460|           14115.0|    8066|            2016.5|           382400|           95600.0|\n",
       "+--------+---------------+-------+-------+------------------+---------------+------------------+--------+------------------+-----------------+------------------+\n",
       "only showing top 20 rows\n",
       "\n",
       "</div>"
      ]
     },
     "metadata": {
      "application/vnd.databricks.v1+output": {
       "addedWidgets": {},
       "arguments": {},
       "data": "<div class=\"ansiout\">+--------+---------------+-------+-------+------------------+---------------+------------------+--------+------------------+-----------------+------------------+\n|   brand|          model|t_count|sum__c0|           avg__c0|sum_price (eur)|   avg_price (eur)|sum_year|          avg_year|sum_mileage (kms)| avg_mileage (kms)|\n+--------+---------------+-------+-------+------------------+---------------+------------------+--------+------------------+-----------------+------------------+\n| Hyundai|            i20|      2|    844|             422.0|          25170|           12585.0|    4037|            2018.5|            70876|           35438.0|\n| Citroen|             C4|      5|   2102|             420.4|          42950|            8590.0|   10070|            2014.0|           684234|          136846.8|\n|     Kia|           Ceed|     11|   5108| 464.3636363636364|         160990|14635.454545454546|   22204|2018.5454545454545|           628993|57181.181818181816|\n| Hyundai|            i30|      6|   1343|223.83333333333334|          88410|           14735.0|   12102|            2017.0|           399143| 66523.83333333333|\n|   Dacia|          Logan|      2|    948|             474.0|          16980|            8490.0|    4031|            2015.5|            55340|           27670.0|\n|   Dacia|         Dokker|      3|   1656|             552.0|          33560|11186.666666666666|    6052|2017.3333333333333|           148348|49449.333333333336|\n|     BMW|             X1|      5|   2109|             421.8|          84900|           16980.0|   10077|            2015.4|           614320|          122864.0|\n|  Jaguar|             XF|      1|    544|             544.0|          10990|           10990.0|    2011|            2011.0|           163000|          163000.0|\n|    Jeep|       Wrangler|      2|    783|             391.5|          61980|           30990.0|    4019|            2009.5|           245020|          122510.0|\n| Citroen|    C4 Aircross|      1|    297|             297.0|          10990|           10990.0|    2012|            2012.0|            97500|           97500.0|\n|   Smart|         Fortwo|      2|    751|             375.5|          22980|           11490.0|    4033|            2016.5|           119680|           59840.0|\n|  Toyota|           C-HR|      5|   1022|             204.4|          90950|           18190.0|   10088|            2017.6|           400602|           80120.4|\n|    Ford|          C-Max|      1|    139|             139.0|          10990|           10990.0|    2015|            2015.0|           120597|          120597.0|\n|  Suzuki|         Vitara|      2|    932|             466.0|          32480|           16240.0|    4036|            2018.0|           159097|           79548.5|\n|  Jaguar|             XE|      1|    335|             335.0|          22990|           22990.0|    2019|            2019.0|            51080|           51080.0|\n|Mercedes| Benz Clase GLE|      1|    458|             458.0|          28990|           28990.0|    2016|            2016.0|           103500|          103500.0|\n|    Ford|           Kuga|     11|   4625|420.45454545454544|         166890|15171.818181818182|   22177| 2016.090909090909|           864136| 78557.81818181818|\n|    Audi|             Q2|      1|    661|             661.0|          21990|           21990.0|    2017|            2017.0|           106455|          106455.0|\n|    Ford|Transit Connect|      1|     35|              35.0|          12490|           12490.0|    2014|            2014.0|           126400|          126400.0|\n| Citroen|       Berlingo|      4|   1796|             449.0|          56460|           14115.0|    8066|            2016.5|           382400|           95600.0|\n+--------+---------------+-------+-------+------------------+---------------+------------------+--------+------------------+-----------------+------------------+\nonly showing top 20 rows\n\n</div>",
       "datasetInfos": [],
       "metadata": {},
       "removedWidgets": [],
       "type": "html"
      }
     },
     "output_type": "display_data"
    },
    {
     "output_type": "display_data",
     "data": {
      "text/html": [
       "<style scoped>\n",
       "  .table-result-container {\n",
       "    max-height: 300px;\n",
       "    overflow: auto;\n",
       "  }\n",
       "  table, th, td {\n",
       "    border: 1px solid black;\n",
       "    border-collapse: collapse;\n",
       "  }\n",
       "  th, td {\n",
       "    padding: 5px;\n",
       "  }\n",
       "  th {\n",
       "    text-align: left;\n",
       "  }\n",
       "</style><div class='table-result-container'><table class='table-result'><thead style='background-color: white'><tr><th>brand</th><th>model</th><th>t_count</th><th>sum__c0</th><th>avg__c0</th><th>sum_price (eur)</th><th>avg_price (eur)</th><th>sum_year</th><th>avg_year</th><th>sum_mileage (kms)</th><th>avg_mileage (kms)</th></tr></thead><tbody><tr><td>Hyundai</td><td>i20</td><td>2</td><td>844</td><td>422.0</td><td>25170</td><td>12585.0</td><td>4037</td><td>2018.5</td><td>70876</td><td>35438.0</td></tr><tr><td>Citroen</td><td>C4</td><td>5</td><td>2102</td><td>420.4</td><td>42950</td><td>8590.0</td><td>10070</td><td>2014.0</td><td>684234</td><td>136846.8</td></tr><tr><td>Kia</td><td>Ceed</td><td>11</td><td>5108</td><td>464.3636363636364</td><td>160990</td><td>14635.454545454546</td><td>22204</td><td>2018.5454545454545</td><td>628993</td><td>57181.181818181816</td></tr><tr><td>Hyundai</td><td>i30</td><td>6</td><td>1343</td><td>223.83333333333334</td><td>88410</td><td>14735.0</td><td>12102</td><td>2017.0</td><td>399143</td><td>66523.83333333333</td></tr><tr><td>Dacia</td><td>Logan</td><td>2</td><td>948</td><td>474.0</td><td>16980</td><td>8490.0</td><td>4031</td><td>2015.5</td><td>55340</td><td>27670.0</td></tr></tbody></table></div>"
      ]
     },
     "metadata": {
      "application/vnd.databricks.v1+output": {
       "addedWidgets": {},
       "aggData": [],
       "aggError": "",
       "aggOverflow": false,
       "aggSchema": [],
       "aggSeriesLimitReached": false,
       "aggType": "",
       "arguments": {},
       "columnCustomDisplayInfos": {},
       "data": [
        [
         "Hyundai",
         "i20",
         2,
         844,
         422.0,
         25170,
         12585.0,
         4037,
         2018.5,
         70876,
         35438.0
        ],
        [
         "Citroen",
         "C4",
         5,
         2102,
         420.4,
         42950,
         8590.0,
         10070,
         2014.0,
         684234,
         136846.8
        ],
        [
         "Kia",
         "Ceed",
         11,
         5108,
         464.3636363636364,
         160990,
         14635.454545454546,
         22204,
         2018.5454545454545,
         628993,
         57181.181818181816
        ],
        [
         "Hyundai",
         "i30",
         6,
         1343,
         223.83333333333334,
         88410,
         14735.0,
         12102,
         2017.0,
         399143,
         66523.83333333333
        ],
        [
         "Dacia",
         "Logan",
         2,
         948,
         474.0,
         16980,
         8490.0,
         4031,
         2015.5,
         55340,
         27670.0
        ]
       ],
       "datasetInfos": [],
       "dbfsResultPath": null,
       "isJsonSchema": true,
       "metadata": {},
       "overflow": false,
       "plotOptions": {
        "customPlotOptions": {},
        "displayType": "table",
        "pivotAggregation": null,
        "pivotColumns": null,
        "xColumns": null,
        "yColumns": null
       },
       "removedWidgets": [],
       "schema": [
        {
         "metadata": "{}",
         "name": "brand",
         "type": "\"string\""
        },
        {
         "metadata": "{}",
         "name": "model",
         "type": "\"string\""
        },
        {
         "metadata": "{}",
         "name": "t_count",
         "type": "\"long\""
        },
        {
         "metadata": "{}",
         "name": "sum__c0",
         "type": "\"long\""
        },
        {
         "metadata": "{}",
         "name": "avg__c0",
         "type": "\"double\""
        },
        {
         "metadata": "{}",
         "name": "sum_price (eur)",
         "type": "\"long\""
        },
        {
         "metadata": "{}",
         "name": "avg_price (eur)",
         "type": "\"double\""
        },
        {
         "metadata": "{}",
         "name": "sum_year",
         "type": "\"long\""
        },
        {
         "metadata": "{}",
         "name": "avg_year",
         "type": "\"double\""
        },
        {
         "metadata": "{}",
         "name": "sum_mileage (kms)",
         "type": "\"long\""
        },
        {
         "metadata": "{}",
         "name": "avg_mileage (kms)",
         "type": "\"double\""
        }
       ],
       "type": "table"
      }
     },
     "output_type": "display_data"
    }
   ],
   "source": [
    "columns = ['brand' , 'model']\n",
    "df_count = bds.group_count(df_cars , columns)\n",
    "display(df_count.head(5))"
   ]
  },
  {
   "cell_type": "markdown",
   "metadata": {
    "application/vnd.databricks.v1+cell": {
     "cellMetadata": {},
     "inputWidgets": {},
     "nuid": "06441bbc-0251-4f88-a635-87c1c406c171",
     "showTitle": false,
     "title": ""
    }
   },
   "source": [
    "## Testing InferSchema"
   ]
  },
  {
   "cell_type": "code",
   "execution_count": 0,
   "metadata": {
    "application/vnd.databricks.v1+cell": {
     "cellMetadata": {
      "byteLimit": 2048000,
      "rowLimit": 10000
     },
     "inputWidgets": {},
     "nuid": "1e60c2b8-631c-4a8b-aa30-9e30c1f7e5e6",
     "showTitle": false,
     "title": ""
    }
   },
   "outputs": [
    {
     "output_type": "display_data",
     "data": {
      "text/html": [
       "<style scoped>\n",
       "  .ansiout {\n",
       "    display: block;\n",
       "    unicode-bidi: embed;\n",
       "    white-space: pre-wrap;\n",
       "    word-wrap: break-word;\n",
       "    word-break: break-all;\n",
       "    font-family: \"Source Code Pro\", \"Menlo\", monospace;;\n",
       "    font-size: 13px;\n",
       "    color: #555;\n",
       "    margin-left: 4px;\n",
       "    line-height: 19px;\n",
       "  }\n",
       "</style>\n",
       "<div class=\"ansiout\">_c0 | string -&gt; integer\n",
       "brand | string -&gt; string\n",
       "model | string -&gt; string\n",
       "price (eur) | string -&gt; integer\n",
       "engine | string -&gt; string\n",
       "year | string -&gt; integer\n",
       "mileage (kms) | string -&gt; integer\n",
       "fuel | string -&gt; string\n",
       "gearbox | string -&gt; string\n",
       "location | string -&gt; string\n",
       "Out[6]: DataFrame[_c0: int, brand: string, model: string, price (eur): int, engine: string, year: int, mileage (kms): int, fuel: string, gearbox: string, location: string]</div>"
      ]
     },
     "metadata": {
      "application/vnd.databricks.v1+output": {
       "addedWidgets": {},
       "arguments": {},
       "data": "<div class=\"ansiout\">_c0 | string -&gt; integer\nbrand | string -&gt; string\nmodel | string -&gt; string\nprice (eur) | string -&gt; integer\nengine | string -&gt; string\nyear | string -&gt; integer\nmileage (kms) | string -&gt; integer\nfuel | string -&gt; string\ngearbox | string -&gt; string\nlocation | string -&gt; string\nOut[6]: DataFrame[_c0: int, brand: string, model: string, price (eur): int, engine: string, year: int, mileage (kms): int, fuel: string, gearbox: string, location: string]</div>",
       "datasetInfos": [],
       "metadata": {},
       "removedWidgets": [],
       "type": "html"
      }
     },
     "output_type": "display_data"
    }
   ],
   "source": [
    "bds.inferSchema(df_cars)"
   ]
  },
  {
   "cell_type": "markdown",
   "metadata": {
    "application/vnd.databricks.v1+cell": {
     "cellMetadata": {},
     "inputWidgets": {},
     "nuid": "411a2e0b-036d-4f94-b0da-93f52ae2041f",
     "showTitle": false,
     "title": ""
    }
   },
   "source": [
    "## Testing Seguimiento"
   ]
  },
  {
   "cell_type": "code",
   "execution_count": 4,
   "metadata": {},
   "outputs": [
    {
     "name": "stdout",
     "output_type": "stream",
     "text": [
      "+----+-----+--------+---+--------+------+-------------+--------------------+------------------------+--------------+-------------------+-------------------------+-----------------+-----------------+----------------------------+------------+------------+-----------------------+-----------------+-------------------+----------------------------+---------------+------------------+--------------------------+----------+\n",
      "|year|Disel|Elctrico|GLP|Gasolina|Hbrido|var_neta_year|       var_porc_year|fuera_de_tolerancia_year|var_neta_Disel|     var_porc_Disel|fuera_de_tolerancia_Disel|var_neta_Elctrico|var_porc_Elctrico|fuera_de_tolerancia_Elctrico|var_neta_GLP|var_porc_GLP|fuera_de_tolerancia_GLP|var_neta_Gasolina|  var_porc_Gasolina|fuera_de_tolerancia_Gasolina|var_neta_Hbrido|   var_porc_Hbrido|fuera_de_tolerancia_Hbrido|tolerancia|\n",
      "+----+-----+--------+---+--------+------+-------------+--------------------+------------------------+--------------+-------------------+-------------------------+-----------------+-----------------+----------------------------+------------+------------+-----------------------+-----------------+-------------------+----------------------------+---------------+------------------+--------------------------+----------+\n",
      "|2004|    1|       0|  0|       0|     0|         null|                null|         dentro de rango|          null|               null|          dentro de rango|             null|             null|             dentro de rango|        null|        null|        dentro de rango|             null|               null|             dentro de rango|           null|              null|           dentro de rango|        43|\n",
      "|2007|    1|       0|  0|       2|     0|            3| 0.14970059880239522|         dentro de rango|             0|                0.0|          dentro de rango|                0|              0.0|             dentro de rango|           0|         0.0|        dentro de rango|                2|                0.0|             dentro de rango|              0|               0.0|           dentro de rango|        43|\n",
      "|2008|    1|       0|  0|       1|     0|            1| 0.04982561036372695|         dentro de rango|             0|                0.0|          dentro de rango|                0|              0.0|             dentro de rango|           0|         0.0|        dentro de rango|               -1|              -50.0|            *FUERA DE RANGO*|              0|               0.0|           dentro de rango|        43|\n",
      "|2009|    1|       0|  0|       0|     0|            1|   0.049800796812749|         dentro de rango|             0|                0.0|          dentro de rango|                0|              0.0|             dentro de rango|           0|         0.0|        dentro de rango|               -1|             -100.0|            *FUERA DE RANGO*|              0|               0.0|           dentro de rango|        43|\n",
      "|2010|    2|       0|  0|       1|     0|            1|0.049776007964161276|         dentro de rango|             1|              100.0|         *FUERA DE RANGO*|                0|              0.0|             dentro de rango|           0|         0.0|        dentro de rango|                1|                0.0|             dentro de rango|              0|               0.0|           dentro de rango|        43|\n",
      "|2011|   18|       0|  0|       8|     1|            1| 0.04975124378109452|         dentro de rango|            16|              800.0|         *FUERA DE RANGO*|                0|              0.0|             dentro de rango|           0|         0.0|        dentro de rango|                7|              700.0|            *FUERA DE RANGO*|              1|               0.0|           dentro de rango|        43|\n",
      "|2012|   18|       0|  0|       3|     0|            1| 0.04972650422675286|         dentro de rango|             0|                0.0|          dentro de rango|                0|              0.0|             dentro de rango|           0|         0.0|        dentro de rango|               -5|              -62.5|            *FUERA DE RANGO*|             -1|            -100.0|          *FUERA DE RANGO*|        43|\n",
      "|2013|   30|       0|  0|       5|     0|            1|0.049701789264413515|         dentro de rango|            12|  66.66666666666666|         *FUERA DE RANGO*|                0|              0.0|             dentro de rango|           0|         0.0|        dentro de rango|                2|  66.66666666666666|            *FUERA DE RANGO*|              0|               0.0|           dentro de rango|        43|\n",
      "|2014|   43|       0|  0|      14|     1|            1| 0.04967709885742673|         dentro de rango|            13| 43.333333333333336|         *FUERA DE RANGO*|                0|              0.0|             dentro de rango|           0|         0.0|        dentro de rango|                9|              180.0|            *FUERA DE RANGO*|              1|               0.0|           dentro de rango|        43|\n",
      "|2015|   58|       0|  0|      37|     1|            1| 0.04965243296921549|         dentro de rango|            15| 34.883720930232556|          dentro de rango|                0|              0.0|             dentro de rango|           0|         0.0|        dentro de rango|               23| 164.28571428571428|            *FUERA DE RANGO*|              0|               0.0|           dentro de rango|        43|\n",
      "|2016|   75|       1|  0|      42|     2|            1| 0.04962779156327543|         dentro de rango|            17| 29.310344827586203|          dentro de rango|                1|              0.0|             dentro de rango|           0|         0.0|        dentro de rango|                5| 13.513513513513514|             dentro de rango|              1|             100.0|          *FUERA DE RANGO*|        43|\n",
      "|2017|   59|       0|  0|      63|     6|            1|  0.0496031746031746|         dentro de rango|           -16|-21.333333333333336|          dentro de rango|               -1|           -100.0|            *FUERA DE RANGO*|           0|         0.0|        dentro de rango|               21|               50.0|            *FUERA DE RANGO*|              4|             200.0|          *FUERA DE RANGO*|        43|\n",
      "|2018|   46|       2|  4|      86|    14|            1| 0.04957858205255329|         dentro de rango|           -13|-22.033898305084744|          dentro de rango|                2|              0.0|             dentro de rango|           4|         0.0|        dentro de rango|               23| 36.507936507936506|             dentro de rango|              8|133.33333333333331|          *FUERA DE RANGO*|        43|\n",
      "|2019|   14|       0|  0|      77|     3|            1|0.049554013875123884|         dentro de rango|           -32| -69.56521739130434|         *FUERA DE RANGO*|               -2|           -100.0|            *FUERA DE RANGO*|          -4|      -100.0|       *FUERA DE RANGO*|               -9|-10.465116279069768|             dentro de rango|            -11|-78.57142857142857|          *FUERA DE RANGO*|        43|\n",
      "|2020|    4|       0|  0|      23|     6|            1| 0.04952947003467063|         dentro de rango|           -10| -71.42857142857143|         *FUERA DE RANGO*|                0|              0.0|             dentro de rango|           0|         0.0|        dentro de rango|              -54| -70.12987012987013|            *FUERA DE RANGO*|              3|             100.0|          *FUERA DE RANGO*|        43|\n",
      "|2021|    6|       0|  0|      11|     1|            1| 0.04950495049504951|         dentro de rango|             2|               50.0|         *FUERA DE RANGO*|                0|              0.0|             dentro de rango|           0|         0.0|        dentro de rango|              -12| -52.17391304347826|            *FUERA DE RANGO*|             -5|-83.33333333333334|          *FUERA DE RANGO*|        43|\n",
      "+----+-----+--------+---+--------+------+-------------+--------------------+------------------------+--------------+-------------------+-------------------------+-----------------+-----------------+----------------------------+------------+------------+-----------------------+-----------------+-------------------+----------------------------+---------------+------------------+--------------------------+----------+\n",
      "\n"
     ]
    }
   ],
   "source": [
    "df_seguimiento1 = seguimiento(df_cars , 'year' , 'fuel' , 43)\n",
    "df_seguimiento1.show()"
   ]
  },
  {
   "cell_type": "markdown",
   "metadata": {
    "application/vnd.databricks.v1+cell": {
     "cellMetadata": {},
     "inputWidgets": {},
     "nuid": "bc69eba1-d544-4ade-8b95-b9ff7fdffd83",
     "showTitle": false,
     "title": ""
    }
   },
   "source": [
    "## Testing Summary"
   ]
  },
  {
   "cell_type": "code",
   "execution_count": 0,
   "metadata": {
    "application/vnd.databricks.v1+cell": {
     "cellMetadata": {
      "byteLimit": 2048000,
      "rowLimit": 10000
     },
     "inputWidgets": {},
     "nuid": "0c2a6cfc-0c4e-4c06-a78f-af00ba1fd575",
     "showTitle": false,
     "title": ""
    }
   },
   "outputs": [
    {
     "output_type": "display_data",
     "data": {
      "text/html": [
       "<style scoped>\n",
       "  .ansiout {\n",
       "    display: block;\n",
       "    unicode-bidi: embed;\n",
       "    white-space: pre-wrap;\n",
       "    word-wrap: break-word;\n",
       "    word-break: break-all;\n",
       "    font-family: \"Source Code Pro\", \"Menlo\", monospace;;\n",
       "    font-size: 13px;\n",
       "    color: #555;\n",
       "    margin-left: 4px;\n",
       "    line-height: 19px;\n",
       "  }\n",
       "</style>\n",
       "<div class=\"ansiout\">las columnas numericas tienen datos nulos\n",
       "</div>"
      ]
     },
     "metadata": {
      "application/vnd.databricks.v1+output": {
       "addedWidgets": {},
       "arguments": {},
       "data": "<div class=\"ansiout\">las columnas numericas tienen datos nulos\n</div>",
       "datasetInfos": [],
       "metadata": {},
       "removedWidgets": [],
       "type": "html"
      }
     },
     "output_type": "display_data"
    },
    {
     "output_type": "display_data",
     "data": {
      "text/html": [
       "<style scoped>\n",
       "  .ansiout {\n",
       "    display: block;\n",
       "    unicode-bidi: embed;\n",
       "    white-space: pre-wrap;\n",
       "    word-wrap: break-word;\n",
       "    word-break: break-all;\n",
       "    font-family: \"Source Code Pro\", \"Menlo\", monospace;;\n",
       "    font-size: 13px;\n",
       "    color: #555;\n",
       "    margin-left: 4px;\n",
       "    line-height: 19px;\n",
       "  }\n",
       "</style>\n",
       "<div class=\"ansiout\"><span class=\"ansi-red-fg\">---------------------------------------------------------------------------</span>\n",
       "<span class=\"ansi-red-fg\">NameError</span>                                 Traceback (most recent call last)\n",
       "<span class=\"ansi-green-fg\">&lt;command-3590663118663800&gt;</span> in <span class=\"ansi-cyan-fg\">&lt;module&gt;</span>\n",
       "<span class=\"ansi-green-fg\">----&gt; 1</span><span class=\"ansi-red-fg\"> </span>df_sumary1 <span class=\"ansi-blue-fg\">=</span> bds<span class=\"ansi-blue-fg\">.</span>sumary<span class=\"ansi-blue-fg\">(</span>df_null<span class=\"ansi-blue-fg\">)</span>\n",
       "\n",
       "<span class=\"ansi-green-fg\">/databricks/driver/clei23_lib_pyspark/bdsanalytics/features/summary.py</span> in <span class=\"ansi-cyan-fg\">sumary</span><span class=\"ansi-blue-fg\">(dataframe)</span>\n",
       "<span class=\"ansi-green-intense-fg ansi-bold\">     41</span>         lista_modas <span class=\"ansi-blue-fg\">=</span> tuple<span class=\"ansi-blue-fg\">(</span>lista_modas<span class=\"ansi-blue-fg\">)</span>\n",
       "<span class=\"ansi-green-intense-fg ansi-bold\">     42</span>         lista_antimoda <span class=\"ansi-blue-fg\">=</span> tuple<span class=\"ansi-blue-fg\">(</span>lista_antimoda<span class=\"ansi-blue-fg\">)</span>\n",
       "<span class=\"ansi-green-fg\">---&gt; 43</span><span class=\"ansi-red-fg\">         </span>new_row <span class=\"ansi-blue-fg\">=</span> spark<span class=\"ansi-blue-fg\">.</span>createDataFrame<span class=\"ansi-blue-fg\">(</span><span class=\"ansi-blue-fg\">[</span>lista_modas<span class=\"ansi-blue-fg\">]</span> <span class=\"ansi-blue-fg\">,</span> <span class=\"ansi-blue-fg\">[</span><span class=\"ansi-blue-fg\">*</span>lista_columnas<span class=\"ansi-blue-fg\">]</span><span class=\"ansi-blue-fg\">)</span>\n",
       "<span class=\"ansi-green-intense-fg ansi-bold\">     44</span>         new_row_anti_mode <span class=\"ansi-blue-fg\">=</span> spark<span class=\"ansi-blue-fg\">.</span>createDataFrame<span class=\"ansi-blue-fg\">(</span><span class=\"ansi-blue-fg\">[</span>lista_antimoda<span class=\"ansi-blue-fg\">]</span> <span class=\"ansi-blue-fg\">,</span> <span class=\"ansi-blue-fg\">[</span><span class=\"ansi-blue-fg\">*</span>lista_columnas<span class=\"ansi-blue-fg\">]</span><span class=\"ansi-blue-fg\">)</span>\n",
       "<span class=\"ansi-green-intense-fg ansi-bold\">     45</span>         df_columns<span class=\"ansi-blue-fg\">.</span>summary<span class=\"ansi-blue-fg\">(</span><span class=\"ansi-blue-fg\">)</span><span class=\"ansi-blue-fg\">.</span>unionAll<span class=\"ansi-blue-fg\">(</span>new_row<span class=\"ansi-blue-fg\">)</span><span class=\"ansi-blue-fg\">.</span>unionAll<span class=\"ansi-blue-fg\">(</span>new_row_anti_mode<span class=\"ansi-blue-fg\">)</span><span class=\"ansi-blue-fg\">.</span>show<span class=\"ansi-blue-fg\">(</span><span class=\"ansi-blue-fg\">)</span>\n",
       "\n",
       "<span class=\"ansi-red-fg\">NameError</span>: name &#39;spark&#39; is not defined</div>"
      ]
     },
     "metadata": {
      "application/vnd.databricks.v1+output": {
       "arguments": {},
       "data": "<div class=\"ansiout\"><span class=\"ansi-red-fg\">---------------------------------------------------------------------------</span>\n<span class=\"ansi-red-fg\">NameError</span>                                 Traceback (most recent call last)\n<span class=\"ansi-green-fg\">&lt;command-3590663118663800&gt;</span> in <span class=\"ansi-cyan-fg\">&lt;module&gt;</span>\n<span class=\"ansi-green-fg\">----&gt; 1</span><span class=\"ansi-red-fg\"> </span>df_sumary1 <span class=\"ansi-blue-fg\">=</span> bds<span class=\"ansi-blue-fg\">.</span>sumary<span class=\"ansi-blue-fg\">(</span>df_null<span class=\"ansi-blue-fg\">)</span>\n\n<span class=\"ansi-green-fg\">/databricks/driver/clei23_lib_pyspark/bdsanalytics/features/summary.py</span> in <span class=\"ansi-cyan-fg\">sumary</span><span class=\"ansi-blue-fg\">(dataframe)</span>\n<span class=\"ansi-green-intense-fg ansi-bold\">     41</span>         lista_modas <span class=\"ansi-blue-fg\">=</span> tuple<span class=\"ansi-blue-fg\">(</span>lista_modas<span class=\"ansi-blue-fg\">)</span>\n<span class=\"ansi-green-intense-fg ansi-bold\">     42</span>         lista_antimoda <span class=\"ansi-blue-fg\">=</span> tuple<span class=\"ansi-blue-fg\">(</span>lista_antimoda<span class=\"ansi-blue-fg\">)</span>\n<span class=\"ansi-green-fg\">---&gt; 43</span><span class=\"ansi-red-fg\">         </span>new_row <span class=\"ansi-blue-fg\">=</span> spark<span class=\"ansi-blue-fg\">.</span>createDataFrame<span class=\"ansi-blue-fg\">(</span><span class=\"ansi-blue-fg\">[</span>lista_modas<span class=\"ansi-blue-fg\">]</span> <span class=\"ansi-blue-fg\">,</span> <span class=\"ansi-blue-fg\">[</span><span class=\"ansi-blue-fg\">*</span>lista_columnas<span class=\"ansi-blue-fg\">]</span><span class=\"ansi-blue-fg\">)</span>\n<span class=\"ansi-green-intense-fg ansi-bold\">     44</span>         new_row_anti_mode <span class=\"ansi-blue-fg\">=</span> spark<span class=\"ansi-blue-fg\">.</span>createDataFrame<span class=\"ansi-blue-fg\">(</span><span class=\"ansi-blue-fg\">[</span>lista_antimoda<span class=\"ansi-blue-fg\">]</span> <span class=\"ansi-blue-fg\">,</span> <span class=\"ansi-blue-fg\">[</span><span class=\"ansi-blue-fg\">*</span>lista_columnas<span class=\"ansi-blue-fg\">]</span><span class=\"ansi-blue-fg\">)</span>\n<span class=\"ansi-green-intense-fg ansi-bold\">     45</span>         df_columns<span class=\"ansi-blue-fg\">.</span>summary<span class=\"ansi-blue-fg\">(</span><span class=\"ansi-blue-fg\">)</span><span class=\"ansi-blue-fg\">.</span>unionAll<span class=\"ansi-blue-fg\">(</span>new_row<span class=\"ansi-blue-fg\">)</span><span class=\"ansi-blue-fg\">.</span>unionAll<span class=\"ansi-blue-fg\">(</span>new_row_anti_mode<span class=\"ansi-blue-fg\">)</span><span class=\"ansi-blue-fg\">.</span>show<span class=\"ansi-blue-fg\">(</span><span class=\"ansi-blue-fg\">)</span>\n\n<span class=\"ansi-red-fg\">NameError</span>: name &#39;spark&#39; is not defined</div>",
       "errorSummary": "<span class=\"ansi-red-fg\">NameError</span>: name &#39;spark&#39; is not defined",
       "errorTraceType": "html",
       "metadata": {},
       "type": "ipynbError"
      }
     },
     "output_type": "display_data"
    }
   ],
   "source": [
    "df_sumary1 = bds.sumary(df_null)"
   ]
  }
 ],
 "metadata": {
  "application/vnd.databricks.v1+notebook": {
   "dashboards": [],
   "language": "python",
   "notebookMetadata": {
    "mostRecentlyExecutedCommandWithImplicitDF": {
     "commandId": 1718156412472029,
     "dataframes": [
      "_sqldf"
     ]
    },
    "pythonIndentUnit": 4
   },
   "notebookName": "test_lib",
   "widgets": {}
  }
 },
 "nbformat": 4,
 "nbformat_minor": 0
}
