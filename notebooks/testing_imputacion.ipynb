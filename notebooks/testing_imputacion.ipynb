{
 "cells": [
  {
   "attachments": {},
   "cell_type": "markdown",
   "metadata": {},
   "source": [
    "# Imputacion\n",
    "Notebook con ejemplos de uso de la funcion imputacion"
   ]
  },
  {
   "attachments": {},
   "cell_type": "markdown",
   "metadata": {},
   "source": [
    "## importaciones\n",
    "Nota: estas importaciones son necesarias para este notebook, si quiere ver las importaciones necesarias para la función específica vaya al archivo original [imputacion](../features/imputacion.py)"
   ]
  },
  {
   "cell_type": "code",
   "execution_count": 1,
   "metadata": {},
   "outputs": [],
   "source": [
    "from pyspark.sql import SparkSession\n",
    "from pyspark.sql.types import *\n",
    "from pyspark.sql.functions import *\n",
    "spark = SparkSession.builder.getOrCreate()"
   ]
  },
  {
   "attachments": {},
   "cell_type": "markdown",
   "metadata": {},
   "source": [
    "## dataframes y validaciones\n",
    "Estos son dataframes de testeo obtenido de internet. \n",
    "Las validaciones son una pieza importante de la parte técnica de la librería. Para más detalle vea las [validaciones](../validaciones/validaciones.py)"
   ]
  },
  {
   "cell_type": "code",
   "execution_count": 14,
   "metadata": {},
   "outputs": [],
   "source": [
    "df_null = spark.read.csv('csv/cars_null.csv' , header= True  ,inferSchema=True)\n",
    "\n",
    "def is_dataframe(dataframe):\n",
    "    try:\n",
    "        type_df = type(dataframe)\n",
    "        if not isinstance(dataframe , DataFrame):\n",
    "            raise TypeError(f\"Expected a DataFrame, got {type_df}\")\n",
    "    except Exception as e: \n",
    "        print(\"An error occurred: \", e)\n",
    "def sel_num_cols(dataframe): \n",
    "    lista_columnas_numericas =  []\n",
    "    tipos_numericos = [LongType().simpleString(), DoubleType().simpleString(), \n",
    "        IntegerType().simpleString() , ShortType().simpleString() ,\n",
    "        FloatType().simpleString() , DecimalType().simpleString()]\n",
    "    for columnas, dtype in dataframe.dtypes:\n",
    "        if dtype in tipos_numericos: lista_columnas_numericas.append(columnas)\n",
    "    \n",
    "    return lista_columnas_numericas\n",
    "def df_has_numtype(dataframe):\n",
    "    try:\n",
    "        is_dataframe(dataframe)\n",
    "        tipos_numericos = [LongType().simpleString(), DoubleType().simpleString(), \n",
    "        IntegerType().simpleString() , ShortType().simpleString() ,\n",
    "        FloatType().simpleString() , DecimalType().simpleString()]\n",
    "        for _ , dtype in dataframe.dtypes: \n",
    "            if dtype in tipos_numericos:  return True \n",
    "        return False\n",
    "    except Exception as e:\n",
    "        print(\"An error occurred: \", e)\n",
    "def df_has_null(dataframe): \n",
    "    try:    \n",
    "        is_dataframe(dataframe)\n",
    "        for col in dataframe.columns:\n",
    "            if dataframe.filter(isnull(col)).count() > 0 : return (True , col)\n",
    "        return (False , None)\n",
    "    except Exception as e: \n",
    "        print(\"An error occurred: \", e)"
   ]
  },
  {
   "attachments": {},
   "cell_type": "markdown",
   "metadata": {},
   "source": [
    "## Vista previa del dataframes con datos nulos"
   ]
  },
  {
   "cell_type": "code",
   "execution_count": 15,
   "metadata": {},
   "outputs": [
    {
     "name": "stdout",
     "output_type": "stream",
     "text": [
      "+---+----------+-------+-----------+--------------------+----+-------------+--------+----------+----------+\n",
      "|_c0|     brand|  model|price (eur)|              engine|year|mileage (kms)|    fuel|   gearbox|  location|\n",
      "+---+----------+-------+-----------+--------------------+----+-------------+--------+----------+----------+\n",
      "|  0|      SEAT|  Ibiza|       8990|SC 1.2 TSI 90cv S...|2016|        67000|Gasolina|    Manual|Granollers|\n",
      "|  1|   Hyundai|    i30|       null|1.6 CRDi 110cv Tecno|2014|       104868|    null|    Manual|Viladecans|\n",
      "|  2|       BMW|Serie 5|      13490|        530d Touring|2011|       137566|       -|Automatica|Viladecans|\n",
      "|  3|Volkswagen|   Golf|      24990|GTI 2.0 TSI 169kW...|2018|        44495|Gasolina|    Manual|Viladecans|\n",
      "|  4|      Opel|  Corsa|      10460|1.4 Expression 90 CV|2016|        69800|      \\n|    Manual|Sabadell 1|\n",
      "+---+----------+-------+-----------+--------------------+----+-------------+--------+----------+----------+\n",
      "only showing top 5 rows\n",
      "\n"
     ]
    }
   ],
   "source": [
    "df_null.show(5)"
   ]
  },
  {
   "attachments": {},
   "cell_type": "markdown",
   "metadata": {},
   "source": [
    "## inferSchema e imputacion\n",
    "Utilizaremos la funcion [inferSchema](../features/inferSchema.py) para obtener el tipo de dato correcto y luego haremos la [imputacion](../features/imputacion.py) de los datos nulos"
   ]
  },
  {
   "cell_type": "code",
   "execution_count": 7,
   "metadata": {},
   "outputs": [],
   "source": [
    "def inferSchema(dataframe):\n",
    "    \"\"\"\n",
    "    Esta función recibe un dataframe de PySpark, una columna a ser imputada y una columna auxiliar. \n",
    "    La función devuelve el dataframe con la columna de imputación llenada con el promedio de los valores \n",
    "    de la columna de imputación agrupada por la columna auxiliar. Si el valor de la columna de imputación\n",
    "    no es nulo, se mantiene el mismo valor.\n",
    "    Argumentos:\n",
    "    dataframe (DataFrame): Dataframe de PySpark que se desea imputar\n",
    "    columna_imputacion (string): Nombre de la columna que se desea imputar\n",
    "    columna_auxiliar (string): Nombre de la columna auxiliar para calcular el promedio\n",
    "    Retorno:\n",
    "    DataFrame: Dataframe de PySpark con la columna de imputación llenada con el promedio de los valores \n",
    "               de la columna de imputación agrupada por la columna auxiliar.\n",
    "    \"\"\"\n",
    "    is_dataframe(dataframe) \n",
    "    try:\n",
    "        dataframe = dataframe.select([col(c).cast(\"string\") for c in dataframe.columns])\n",
    "        for columna in dataframe.columns: \n",
    "            first_value = dataframe.select(col(columna)).first()[0]\n",
    "            if contains_letter(first_value):\n",
    "                dataframe = dataframe.withColumn(columna , col(columna).cast(StringType())) \n",
    "                print(f'{columna} | string -> string')\n",
    "            elif columna == \"Date\":\n",
    "                contador = first_value.count(\".\")\n",
    "                if '-' in first_value:\n",
    "                    dataframe = dataframe.withColumn(columna , col(columna).cast(DateType()))  \n",
    "                    print(f'{columna} | string -> date')\n",
    "                \n",
    "                elif contador == 2: \n",
    "                    dataframe = dataframe.withColumn(columna, regexp_replace(dataframe[columna], \"[^a-zA-Z0-9]+\", \"\"))\n",
    "                    dataframe = dataframe.withColumn(columna , col(columna).cast((IntegerType()))) \n",
    "                    print(f'{columna} | string -> integer')\n",
    "            elif '.' in first_value:\n",
    "                contador = first_value.count(\".\")\n",
    "                if contador == 2: \n",
    "                    dataframe = dataframe.withColumn(columna, regexp_replace(dataframe[columna], \"[^a-zA-Z0-9]+\", \"\"))\n",
    "                    dataframe = dataframe.withColumn(columna , col(columna).cast((IntegerType()))) \n",
    "                    print(f'{columna} | string -> date')\n",
    "                elif contador == 1:\n",
    "                    dataframe = dataframe.withColumn(columna , col(columna).cast(DoubleType()))\n",
    "                    print(f'{columna} | string -> double') \n",
    "                else:\n",
    "                    dataframe = dataframe.withColumn(columna , col(columna).cast(StringType()))   \n",
    "                    print(f'{columna} | string -> string')\n",
    "                    \n",
    "\n",
    "            elif \"-\"  in first_value:\n",
    "                contador = first_value.count(\"-\")\n",
    "                if contador == 2:\n",
    "                    dataframe = dataframe.withColumn(columna , col(columna).cast(DateType()))  \n",
    "                    print(f'{columna} | string -> date')\n",
    "                else: \n",
    "                    dataframe = dataframe.withColumn(columna , col(columna).cast(StringType()))   \n",
    "                    print(f'{columna} | string -> string')\n",
    "            elif \"/\" in first_value:\n",
    "                contador = first_value.count(\"/\")\n",
    "                if contador == 2:\n",
    "                    dataframe = dataframe.withColumn(columna , col(columna).cast(DateType()))\n",
    "                    print(f'{columna} | string -> date')\n",
    "                else: \n",
    "                    dataframe = dataframe.withColumn(columna , col(columna).cast(StringType()))   \n",
    "                    print(f'{columna} | string -> string')\n",
    "\n",
    "            elif \"True\" in first_value:\n",
    "                dataframe = dataframe.withColumn(columna , col(columna).cast(BooleanType()))\n",
    "                print(f'{columna} | string -> bool')\n",
    "            elif \"False\" in first_value:\n",
    "                dataframe = dataframe.withColumn(columna , col(columna).cast(BooleanType()))\n",
    "                print(f'{columna} | string -> bool')\n",
    "            elif first_value.isnumeric():\n",
    "                dataframe = dataframe.withColumn(columna , col(columna).cast(LongType()))\n",
    "                try:\n",
    "                    dataframe = dataframe.withColumn(columna , col(columna).cast((IntegerType())))\n",
    "                    print(f'{columna} | string -> integer')\n",
    "                except:\n",
    "                    dataframe = dataframe.withColumn(columna , col(columna).cast(LongType()))\n",
    "                    print(f'{columna} | string -> long')\n",
    "                    pass\n",
    "            else:\n",
    "                dataframe = dataframe.withColumn(columna , col(columna).cast(StringType()))   \n",
    "                print(f'{columna} | string -> string')\n",
    "        return dataframe\n",
    "    except Exception as e :\n",
    "        print('Ha ocurrido un error al momento de inferir el schema: ' , e )\n",
    "\n",
    "\n",
    "def contains_letter(string):\n",
    "    return bool(re.search(\"[a-zA-Z]\", string))"
   ]
  },
  {
   "cell_type": "code",
   "execution_count": 8,
   "metadata": {},
   "outputs": [],
   "source": [
    "def imputacion(dataframe , columna , opcion , auxiliar = ''):\n",
    "    \"\"\"\n",
    "    La función 'imputacion' es una función que permite reemplazar los valores nulos en un dataframe dado por un valor determinado. \n",
    "    \n",
    "    Argumentos:\n",
    "    dataframe (pyspark.sql.dataframe.DataFrame): El dataframe del que se quieren reemplazar los valores nulos.\n",
    "    columna (str): La columna que se desea imputar.\n",
    "    opcion (str): La opción de imputación que se desea aplicar. Puede ser \"media\", \"mediana\", \"moda\", \"similitud\", \"cero\", o \"desconocido\".\n",
    "    auxiliar (str, optional): El nombre de una columna auxiliar que se utilizará en caso de que la opción elegida sea \"similitud\". \n",
    "                             Por defecto, no se proporciona.\n",
    "    Retorno:\n",
    "    pyspark.sql.dataframe.DataFrame: Un nuevo dataframe con los valores nulos en la columna dada reemplazados por el valor especificado.\n",
    "    \n",
    "    Ejemplos:\n",
    "    >>> dataframe = spark.createDataFrame([(1, None), (2, 3.0), (3, 4.0)], [\"id\", \"val\"])\n",
    "    >>> imputacion(dataframe, \"val\", \"media\")\n",
    "    >>> # Returns:\n",
    "    >>> # +---+-----+\n",
    "    >>> # | id|  val|\n",
    "    >>> # +---+-----+\n",
    "    >>> # |  1| 3.25|\n",
    "    >>> # |  2|  3.0|\n",
    "    >>> # |  3|  4.0|\n",
    "    >>> # +---+-----+\n",
    "    \n",
    "    \"\"\"\n",
    "    is_dataframe(dataframe)\n",
    "    try:\n",
    "        \n",
    "        if dataframe.filter(isnull(columna)).count() > 0 : \n",
    "            tipos_numericos = [LongType().simpleString(), DoubleType().simpleString(), \n",
    "                IntegerType().simpleString() , ShortType().simpleString() ,\n",
    "                FloatType().simpleString() , DecimalType().simpleString()]\n",
    "            data_type = dataframe.schema[columna].dataType\n",
    "            data_type = data_type.simpleString()\n",
    "            \n",
    "            if data_type in tipos_numericos:\n",
    "                if opcion == 'mediana':\n",
    "                    print('opcion de mediana')\n",
    "                    mean_val = dataframe.select(mean(columna)).first()[0]\n",
    "                    dataframe = dataframe.fillna(mean_val, [columna])\n",
    "                    return dataframe\n",
    "                elif opcion == 'media':\n",
    "                    print('opcion de media')\n",
    "                    median_val = dataframe.select(percentile_approx(columna, 0.5).alias(\"median\")).first()[0]\n",
    "                    dataframe = dataframe.fillna(median_val, [columna])\n",
    "                    return dataframe\n",
    "                elif opcion == 'moda':\n",
    "                    print('opcion de moda')\n",
    "                    mode_val = dataframe.groupBy(columna).count().sort('count', ascending=False).first()[0]\n",
    "                    dataframe = dataframe.fillna(mode_val, [columna])\n",
    "                    return dataframe\n",
    "                elif opcion == 'similitud':\n",
    "                    df_fill = similitud(dataframe , columna , auxiliar)\n",
    "                    return df_fill\n",
    "                elif opcion == 'cero':\n",
    "                    dataframe = dataframe.fillna(0, [columna])\n",
    "                    return dataframe\n",
    "                            \n",
    "            elif data_type == StringType().simpleString():\n",
    "                lista_nulls = ['null' , '-' , '' , ' ', 'n' , '\\\\n' ]        \n",
    "                if opcion == 'moda': \n",
    "                    print('opcion de moda')\n",
    "                    mode_val = dataframe.filter(dataframe[columna].isNotNull()).groupBy(columna).count().sort('count', ascending=False).first()[0]\n",
    "                    for i, row in enumerate(dataframe.toLocalIterator()):\n",
    "                        if row[columna] in lista_nulls:\n",
    "                            dataframe = dataframe.withColumn(columna, when(col(columna).isin(lista_nulls), mode_val).otherwise(col(columna)))  \n",
    "                    return dataframe \n",
    "                elif opcion == 'cero': \n",
    "                    print('opcion de cero')\n",
    "                    for i, row in enumerate(dataframe.toLocalIterator()):\n",
    "                        if row[columna] in lista_nulls:\n",
    "                            dataframe = dataframe.withColumn(columna, when(col(columna).isin(lista_nulls), '0').otherwise(col(columna)))  \n",
    "                    return dataframe\n",
    "                elif opcion == 'desconocido':\n",
    "                    print('opcion de desconocido')\n",
    "                    for i, row in enumerate(dataframe.toLocalIterator()):\n",
    "                        if row[columna] in lista_nulls:\n",
    "                            dataframe = dataframe.withColumn(columna, when(col(columna).isin(lista_nulls), 'desconocido').otherwise(col(columna)))  \n",
    "                    return dataframe\n",
    "        else: \n",
    "            print('No existen valores nulos en la columna indicada')\n",
    "            return dataframe\n",
    "    except Exception as e : \n",
    "        print('Error: ' , e)\n",
    "\n",
    "def similitud(dataframe, columna_imputacion, columna_auxiliar):\n",
    "    \"\"\"\n",
    "    Esta función recibe un dataframe de PySpark, una columna a ser imputada y una columna auxiliar. \n",
    "    La función devuelve el dataframe con la columna de imputación llenada con el promedio de los valores \n",
    "    de la columna de imputación agrupados por la columna auxiliar. Si el valor de la columna de imputación\n",
    "    no es nulo, se mantiene el mismo valor.\n",
    "    Parameters:\n",
    "    dataframe (DataFrame): Dataframe de PySpark que se desea imputar\n",
    "    columna_imputacion (string): Nombre de la columna que se desea imputar\n",
    "    columna_auxiliar (string): Nombre de la columna auxiliar para calcular el promedio\n",
    "    Returns:\n",
    "    DataFrame: Dataframe de PySpark con la columna de imputación llenada con el promedio de los valores \n",
    "               de la columna de imputación agrupados por la columna auxiliar.\n",
    "    \"\"\"\n",
    "    try:\n",
    "        avg_vals = dataframe.filter(dataframe[columna_imputacion].isNotNull()).groupBy(columna_auxiliar).agg(avg(columna_imputacion))\n",
    "        df_fill = dataframe.join(avg_vals, columna_auxiliar, 'left') \\\n",
    "                           .withColumn(columna_imputacion, when(dataframe[columna_imputacion].isNull(), col('avg(' + columna_imputacion + ')')).otherwise(dataframe[columna_imputacion])) \\\n",
    "                           .drop('avg(' + columna_imputacion + ')')\n",
    "        return df_fill\n",
    "    except Exception as e:\n",
    "        print(\"Error: \", e)"
   ]
  },
  {
   "attachments": {},
   "cell_type": "markdown",
   "metadata": {},
   "source": [
    "### Ejemplo columna String imputacion moda\n",
    "Este ejemplo rellenará los datos nulos de una columna tipo String con el valor que más se repite"
   ]
  },
  {
   "cell_type": "code",
   "execution_count": 17,
   "metadata": {},
   "outputs": [
    {
     "name": "stdout",
     "output_type": "stream",
     "text": [
      "_c0 | string -> integer\n",
      "brand | string -> string\n",
      "model | string -> string\n",
      "price (eur) | string -> integer\n",
      "engine | string -> string\n",
      "year | string -> integer\n",
      "mileage (kms) | string -> integer\n",
      "fuel | string -> string\n",
      "gearbox | string -> string\n",
      "location | string -> string\n",
      "opcion de moda\n",
      "+---+----------+-------+-----------+--------------------+----+-------------+--------+----------+----------+\n",
      "|_c0|     brand|  model|price (eur)|              engine|year|mileage (kms)|    fuel|   gearbox|  location|\n",
      "+---+----------+-------+-----------+--------------------+----+-------------+--------+----------+----------+\n",
      "|  0|      SEAT|  Ibiza|       8990|SC 1.2 TSI 90cv S...|2016|        67000|Gasolina|    Manual|Granollers|\n",
      "|  1|   Hyundai|    i30|       null|1.6 CRDi 110cv Tecno|2014|       104868|  Diésel|    Manual|Viladecans|\n",
      "|  2|       BMW|Serie 5|      13490|        530d Touring|2011|       137566|  Diésel|Automatica|Viladecans|\n",
      "|  3|Volkswagen|   Golf|      24990|GTI 2.0 TSI 169kW...|2018|        44495|Gasolina|    Manual|Viladecans|\n",
      "|  4|      Opel|  Corsa|      10460|1.4 Expression 90 CV|2016|        69800|  Diésel|    Manual|Sabadell 1|\n",
      "+---+----------+-------+-----------+--------------------+----+-------------+--------+----------+----------+\n",
      "only showing top 5 rows\n",
      "\n"
     ]
    }
   ],
   "source": [
    "df_infer_cars = inferSchema(df_null)\n",
    "df_limpio_cars = imputacion(df_infer_cars , 'fuel' , 'moda')\n",
    "df_limpio_cars.show(5)"
   ]
  },
  {
   "attachments": {},
   "cell_type": "markdown",
   "metadata": {},
   "source": [
    "### Ejemplo columna String imputacion cero\n",
    "Este ejemplo rellenará con '0' los datos que sean nulos en la columna fuel\n"
   ]
  },
  {
   "cell_type": "code",
   "execution_count": 18,
   "metadata": {},
   "outputs": [
    {
     "name": "stdout",
     "output_type": "stream",
     "text": [
      "_c0 | string -> integer\n",
      "brand | string -> string\n",
      "model | string -> string\n",
      "price (eur) | string -> integer\n",
      "engine | string -> string\n",
      "year | string -> integer\n",
      "mileage (kms) | string -> integer\n",
      "fuel | string -> string\n",
      "gearbox | string -> string\n",
      "location | string -> string\n",
      "opcion de cero\n",
      "+---+----------+-------+-----------+--------------------+----+-------------+--------+----------+----------+\n",
      "|_c0|     brand|  model|price (eur)|              engine|year|mileage (kms)|    fuel|   gearbox|  location|\n",
      "+---+----------+-------+-----------+--------------------+----+-------------+--------+----------+----------+\n",
      "|  0|      SEAT|  Ibiza|       8990|SC 1.2 TSI 90cv S...|2016|        67000|Gasolina|    Manual|Granollers|\n",
      "|  1|   Hyundai|    i30|       null|1.6 CRDi 110cv Tecno|2014|       104868|       0|    Manual|Viladecans|\n",
      "|  2|       BMW|Serie 5|      13490|        530d Touring|2011|       137566|       0|Automatica|Viladecans|\n",
      "|  3|Volkswagen|   Golf|      24990|GTI 2.0 TSI 169kW...|2018|        44495|Gasolina|    Manual|Viladecans|\n",
      "|  4|      Opel|  Corsa|      10460|1.4 Expression 90 CV|2016|        69800|       0|    Manual|Sabadell 1|\n",
      "+---+----------+-------+-----------+--------------------+----+-------------+--------+----------+----------+\n",
      "only showing top 5 rows\n",
      "\n"
     ]
    }
   ],
   "source": [
    "df_infer_cars = inferSchema(df_null)\n",
    "df_limpio_cars = imputacion(df_infer_cars , 'fuel' , 'cero')\n",
    "df_limpio_cars.show(5)"
   ]
  },
  {
   "attachments": {},
   "cell_type": "markdown",
   "metadata": {},
   "source": [
    "### Ejemplo columna String imputacion deconocido"
   ]
  },
  {
   "attachments": {},
   "cell_type": "markdown",
   "metadata": {},
   "source": [
    "Este ejemplo rellenará con la palabra 'desconocido' los datos que sean nulo en la columna fuel "
   ]
  },
  {
   "cell_type": "code",
   "execution_count": 24,
   "metadata": {},
   "outputs": [
    {
     "name": "stdout",
     "output_type": "stream",
     "text": [
      "_c0 | string -> integer\n",
      "brand | string -> string\n",
      "model | string -> string\n",
      "price (eur) | string -> integer\n",
      "engine | string -> string\n",
      "year | string -> integer\n",
      "mileage (kms) | string -> integer\n",
      "fuel | string -> string\n",
      "gearbox | string -> string\n",
      "location | string -> string\n",
      "opcion de desconocido\n",
      "+---+----------+-------+-----------+--------------------+----+-------------+-----------+----------+----------+\n",
      "|_c0|     brand|  model|price (eur)|              engine|year|mileage (kms)|       fuel|   gearbox|  location|\n",
      "+---+----------+-------+-----------+--------------------+----+-------------+-----------+----------+----------+\n",
      "|  0|      SEAT|  Ibiza|       8990|SC 1.2 TSI 90cv S...|2016|        67000|   Gasolina|    Manual|Granollers|\n",
      "|  1|   Hyundai|    i30|       null|1.6 CRDi 110cv Tecno|2014|       104868|desconocido|    Manual|Viladecans|\n",
      "|  2|       BMW|Serie 5|      13490|        530d Touring|2011|       137566|desconocido|Automatica|Viladecans|\n",
      "|  3|Volkswagen|   Golf|      24990|GTI 2.0 TSI 169kW...|2018|        44495|   Gasolina|    Manual|Viladecans|\n",
      "|  4|      Opel|  Corsa|      10460|1.4 Expression 90 CV|2016|        69800|desconocido|    Manual|Sabadell 1|\n",
      "+---+----------+-------+-----------+--------------------+----+-------------+-----------+----------+----------+\n",
      "only showing top 5 rows\n",
      "\n"
     ]
    }
   ],
   "source": [
    "df_infer_cars = inferSchema(df_null)\n",
    "df_limpio_cars = imputacion(df_infer_cars , 'fuel' , 'desconocido')\n",
    "df_limpio_cars.show(5)"
   ]
  },
  {
   "attachments": {},
   "cell_type": "markdown",
   "metadata": {},
   "source": [
    "### Ejemplo columna numerica imputacion mediana\n",
    "Este ejemplo rellenará los datos nulos de las columnas numéricas con la mediana de los datos de la columna 'price (eur)'"
   ]
  },
  {
   "cell_type": "code",
   "execution_count": 26,
   "metadata": {},
   "outputs": [
    {
     "name": "stdout",
     "output_type": "stream",
     "text": [
      "_c0 | string -> integer\n",
      "brand | string -> string\n",
      "model | string -> string\n",
      "price (eur) | string -> integer\n",
      "engine | string -> string\n",
      "year | string -> integer\n",
      "mileage (kms) | string -> integer\n",
      "fuel | string -> string\n",
      "gearbox | string -> string\n",
      "location | string -> string\n",
      "estoy dentro de el if de datos numericos\n",
      "opcion de mediana\n",
      "+---+----------+-------+-----------+--------------------+----+-------------+--------+----------+----------+\n",
      "|_c0|     brand|  model|price (eur)|              engine|year|mileage (kms)|    fuel|   gearbox|  location|\n",
      "+---+----------+-------+-----------+--------------------+----+-------------+--------+----------+----------+\n",
      "|  0|      SEAT|  Ibiza|       8990|SC 1.2 TSI 90cv S...|2016|        67000|Gasolina|    Manual|Granollers|\n",
      "|  1|   Hyundai|    i30|      15995|1.6 CRDi 110cv Tecno|2014|       104868|    null|    Manual|Viladecans|\n",
      "|  2|       BMW|Serie 5|      13490|        530d Touring|2011|       137566|       -|Automatica|Viladecans|\n",
      "|  3|Volkswagen|   Golf|      24990|GTI 2.0 TSI 169kW...|2018|        44495|Gasolina|    Manual|Viladecans|\n",
      "|  4|      Opel|  Corsa|      10460|1.4 Expression 90 CV|2016|        69800|      \\n|    Manual|Sabadell 1|\n",
      "+---+----------+-------+-----------+--------------------+----+-------------+--------+----------+----------+\n",
      "only showing top 5 rows\n",
      "\n"
     ]
    }
   ],
   "source": [
    "df_infer_cars = inferSchema(df_null)\n",
    "df_limpio_cars = imputacion(df_infer_cars , 'price (eur)' , 'mediana')\n",
    "df_limpio_cars.show(5)"
   ]
  },
  {
   "attachments": {},
   "cell_type": "markdown",
   "metadata": {},
   "source": [
    "### Ejemplo columna numerica imputacion moda\n",
    "Este ejemplo rellenará los datos nulos de las columnas numéricas con la moda de los datos de la columna 'price (eur)'"
   ]
  },
  {
   "cell_type": "code",
   "execution_count": 27,
   "metadata": {},
   "outputs": [
    {
     "name": "stdout",
     "output_type": "stream",
     "text": [
      "_c0 | string -> integer\n",
      "brand | string -> string\n",
      "model | string -> string\n",
      "price (eur) | string -> integer\n",
      "engine | string -> string\n",
      "year | string -> integer\n",
      "mileage (kms) | string -> integer\n",
      "fuel | string -> string\n",
      "gearbox | string -> string\n",
      "location | string -> string\n",
      "estoy dentro de el if de datos numericos\n",
      "opcion de moda\n",
      "+---+----------+-------+-----------+--------------------+----+-------------+--------+----------+----------+\n",
      "|_c0|     brand|  model|price (eur)|              engine|year|mileage (kms)|    fuel|   gearbox|  location|\n",
      "+---+----------+-------+-----------+--------------------+----+-------------+--------+----------+----------+\n",
      "|  0|      SEAT|  Ibiza|       8990|SC 1.2 TSI 90cv S...|2016|        67000|Gasolina|    Manual|Granollers|\n",
      "|  1|   Hyundai|    i30|      14990|1.6 CRDi 110cv Tecno|2014|       104868|    null|    Manual|Viladecans|\n",
      "|  2|       BMW|Serie 5|      13490|        530d Touring|2011|       137566|       -|Automatica|Viladecans|\n",
      "|  3|Volkswagen|   Golf|      24990|GTI 2.0 TSI 169kW...|2018|        44495|Gasolina|    Manual|Viladecans|\n",
      "|  4|      Opel|  Corsa|      10460|1.4 Expression 90 CV|2016|        69800|      \\n|    Manual|Sabadell 1|\n",
      "+---+----------+-------+-----------+--------------------+----+-------------+--------+----------+----------+\n",
      "only showing top 5 rows\n",
      "\n"
     ]
    }
   ],
   "source": [
    "df_infer_cars = inferSchema(df_null)\n",
    "df_limpio_cars = imputacion(df_infer_cars , 'price (eur)' , 'moda')\n",
    "df_limpio_cars.show(5)"
   ]
  },
  {
   "attachments": {},
   "cell_type": "markdown",
   "metadata": {},
   "source": [
    "### Ejemplo columna numerica imputacion media\n",
    "Este ejemplo rellenará los datos nulos de las columnas numéricas con la media de los datos de la columna 'price (eur)'"
   ]
  },
  {
   "cell_type": "code",
   "execution_count": 28,
   "metadata": {},
   "outputs": [
    {
     "name": "stdout",
     "output_type": "stream",
     "text": [
      "_c0 | string -> integer\n",
      "brand | string -> string\n",
      "model | string -> string\n",
      "price (eur) | string -> integer\n",
      "engine | string -> string\n",
      "year | string -> integer\n",
      "mileage (kms) | string -> integer\n",
      "fuel | string -> string\n",
      "gearbox | string -> string\n",
      "location | string -> string\n",
      "estoy dentro de el if de datos numericos\n",
      "opcion de media\n",
      "+---+----------+-------+-----------+--------------------+----+-------------+--------+----------+----------+\n",
      "|_c0|     brand|  model|price (eur)|              engine|year|mileage (kms)|    fuel|   gearbox|  location|\n",
      "+---+----------+-------+-----------+--------------------+----+-------------+--------+----------+----------+\n",
      "|  0|      SEAT|  Ibiza|       8990|SC 1.2 TSI 90cv S...|2016|        67000|Gasolina|    Manual|Granollers|\n",
      "|  1|   Hyundai|    i30|      14990|1.6 CRDi 110cv Tecno|2014|       104868|    null|    Manual|Viladecans|\n",
      "|  2|       BMW|Serie 5|      13490|        530d Touring|2011|       137566|       -|Automatica|Viladecans|\n",
      "|  3|Volkswagen|   Golf|      24990|GTI 2.0 TSI 169kW...|2018|        44495|Gasolina|    Manual|Viladecans|\n",
      "|  4|      Opel|  Corsa|      10460|1.4 Expression 90 CV|2016|        69800|      \\n|    Manual|Sabadell 1|\n",
      "+---+----------+-------+-----------+--------------------+----+-------------+--------+----------+----------+\n",
      "only showing top 5 rows\n",
      "\n"
     ]
    }
   ],
   "source": [
    "df_infer_cars = inferSchema(df_null)\n",
    "df_limpio_cars = imputacion(df_infer_cars , 'price (eur)' , 'media')\n",
    "df_limpio_cars.show(5)"
   ]
  },
  {
   "attachments": {},
   "cell_type": "markdown",
   "metadata": {},
   "source": [
    "### Ejemplo columna numerica imputacion similitud\n",
    "Este ejemplo rellenará los datos nulos de las columnas numéricas con la similitud de los datos de la columna 'price (eur)' tomando los valores de referencia del valor específico en 'model'\n",
    "\n"
   ]
  },
  {
   "cell_type": "code",
   "execution_count": 30,
   "metadata": {},
   "outputs": [
    {
     "name": "stdout",
     "output_type": "stream",
     "text": [
      "_c0 | string -> integer\n",
      "brand | string -> string\n",
      "model | string -> string\n",
      "price (eur) | string -> integer\n",
      "engine | string -> string\n",
      "year | string -> integer\n",
      "mileage (kms) | string -> integer\n",
      "fuel | string -> string\n",
      "gearbox | string -> string\n",
      "location | string -> string\n",
      "estoy dentro de el if de datos numericos\n",
      "+-------+---+----------+-----------+--------------------+----+-------------+--------+----------+----------+\n",
      "|  model|_c0|     brand|price (eur)|              engine|year|mileage (kms)|    fuel|   gearbox|  location|\n",
      "+-------+---+----------+-----------+--------------------+----+-------------+--------+----------+----------+\n",
      "|  Ibiza|  0|      SEAT|     8990.0|SC 1.2 TSI 90cv S...|2016|        67000|Gasolina|    Manual|Granollers|\n",
      "|    i30|  1|   Hyundai|    15684.0|1.6 CRDi 110cv Tecno|2014|       104868|    null|    Manual|Viladecans|\n",
      "|Serie 5|  2|       BMW|    13490.0|        530d Touring|2011|       137566|       -|Automatica|Viladecans|\n",
      "|   Golf|  3|Volkswagen|    24990.0|GTI 2.0 TSI 169kW...|2018|        44495|Gasolina|    Manual|Viladecans|\n",
      "|  Corsa|  4|      Opel|    10460.0|1.4 Expression 90 CV|2016|        69800|      \\n|    Manual|Sabadell 1|\n",
      "+-------+---+----------+-----------+--------------------+----+-------------+--------+----------+----------+\n",
      "only showing top 5 rows\n",
      "\n"
     ]
    }
   ],
   "source": [
    "df_infer_cars = inferSchema(df_null)\n",
    "df_limpio_cars = imputacion(df_infer_cars , 'price (eur)' , 'similitud' , 'model')\n",
    "df_limpio_cars.show(5)"
   ]
  },
  {
   "attachments": {},
   "cell_type": "markdown",
   "metadata": {},
   "source": [
    "### Ejemplo columna numerica imputacion moda\n",
    "Este ejemplo rellenará los datos nulos de las columnas numéricas con la moda de los datos de la columna 'price (eur)'\n",
    "\n"
   ]
  },
  {
   "cell_type": "code",
   "execution_count": 31,
   "metadata": {},
   "outputs": [
    {
     "name": "stdout",
     "output_type": "stream",
     "text": [
      "_c0 | string -> integer\n",
      "brand | string -> string\n",
      "model | string -> string\n",
      "price (eur) | string -> integer\n",
      "engine | string -> string\n",
      "year | string -> integer\n",
      "mileage (kms) | string -> integer\n",
      "fuel | string -> string\n",
      "gearbox | string -> string\n",
      "location | string -> string\n",
      "No existen valores nulos en la columna indicada\n",
      "+---+----------+-------+-----------+--------------------+----+-------------+--------+----------+----------+\n",
      "|_c0|     brand|  model|price (eur)|              engine|year|mileage (kms)|    fuel|   gearbox|  location|\n",
      "+---+----------+-------+-----------+--------------------+----+-------------+--------+----------+----------+\n",
      "|  0|      SEAT|  Ibiza|       8990|SC 1.2 TSI 90cv S...|2016|        67000|Gasolina|    Manual|Granollers|\n",
      "|  1|   Hyundai|    i30|       null|1.6 CRDi 110cv Tecno|2014|       104868|    null|    Manual|Viladecans|\n",
      "|  2|       BMW|Serie 5|      13490|        530d Touring|2011|       137566|       -|Automatica|Viladecans|\n",
      "|  3|Volkswagen|   Golf|      24990|GTI 2.0 TSI 169kW...|2018|        44495|Gasolina|    Manual|Viladecans|\n",
      "|  4|      Opel|  Corsa|      10460|1.4 Expression 90 CV|2016|        69800|      \\n|    Manual|Sabadell 1|\n",
      "+---+----------+-------+-----------+--------------------+----+-------------+--------+----------+----------+\n",
      "only showing top 5 rows\n",
      "\n"
     ]
    }
   ],
   "source": [
    "df_infer_cars = inferSchema(df_null)\n",
    "df_limpio_cars = imputacion(df_infer_cars , 'model' , 'moda')\n",
    "df_limpio_cars.show(5)"
   ]
  }
 ],
 "metadata": {
  "kernelspec": {
   "display_name": "Python 3",
   "language": "python",
   "name": "python3"
  },
  "language_info": {
   "codemirror_mode": {
    "name": "ipython",
    "version": 3
   },
   "file_extension": ".py",
   "mimetype": "text/x-python",
   "name": "python",
   "nbconvert_exporter": "python",
   "pygments_lexer": "ipython3",
   "version": "3.11.1"
  },
  "orig_nbformat": 4,
  "vscode": {
   "interpreter": {
    "hash": "5238573367df39f7286bb46f9ff5f08f63a01a80960060ce41e3c79b190280fa"
   }
  }
 },
 "nbformat": 4,
 "nbformat_minor": 2
}
