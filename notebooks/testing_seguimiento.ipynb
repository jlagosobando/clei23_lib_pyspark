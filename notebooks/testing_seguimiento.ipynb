{
 "cells": [
  {
   "attachments": {},
   "cell_type": "markdown",
   "metadata": {},
   "source": [
    "# Seguimiento"
   ]
  },
  {
   "attachments": {},
   "cell_type": "markdown",
   "metadata": {},
   "source": [
    "## importaciones\n",
    "Nota: estas importaciones son necesarias para este notebook, si quiere ver las importaciones necesarias para la función específica vaya al archivo original [seguimiento](../features/seguimiento.py)"
   ]
  },
  {
   "cell_type": "code",
   "execution_count": 1,
   "metadata": {},
   "outputs": [],
   "source": [
    "from pyspark.sql import SparkSession\n",
    "from pyspark.sql.types import *\n",
    "from pyspark.sql.functions import *\n",
    "from pyspark.sql.window import Window\n",
    "from pyspark.sql.dataframe import DataFrame\n",
    "spark = SparkSession.builder.getOrCreate()\n"
   ]
  },
  {
   "attachments": {},
   "cell_type": "markdown",
   "metadata": {},
   "source": [
    "## Dataframes y validaciones \n",
    "Estos son dataframes de testeo obtenido de internet. \n",
    "Las validaciones son una pieza importante de la parte técnica de la librería. Para más detalle vea las [validaciones](../validaciones/validaciones.py)"
   ]
  },
  {
   "cell_type": "code",
   "execution_count": 2,
   "metadata": {},
   "outputs": [],
   "source": [
    "df_cars = spark.read.csv('csv/used_cars_data.csv' , header=True,inferSchema=True )\n",
    "df_countries = spark.read.csv('csv/countries.csv' ,header= True ,inferSchema=True )\n",
    "df_dates = spark.read.csv('csv/US_Holiday_Dates_(2004-2021).csv' , header=True,inferSchema=True )\n",
    "df_cop = spark.read.csv('csv/eurocup_2020_results.csv', header= True,inferSchema=True)\n",
    "df_test = spark.read.csv('csv/Countries_usefulFeatures.csv' , header= True ,inferSchema=True)\n",
    "df_ernigs = spark.read.csv('csv/all_earnings_dates.csv' , header= True ,inferSchema=True)\n",
    "df_null = spark.read.csv('csv/cars_null.csv' , header= True  ,inferSchema=True)\n",
    "df_seph = spark.read.csv('csv/sephora_website_dataset.csv', header= True,inferSchema=True)\n",
    "df_tw = spark.read.csv('csv/most_followed_twitter.csv' , header= True ,inferSchema=True)\n",
    "df_airlines = spark.read.csv('csv/airlines.csv' , header= True ,inferSchema=True)\n",
    "\n",
    "def is_dataframe(dataframe):\n",
    "    try:\n",
    "        type_df = type(dataframe)\n",
    "        if not isinstance(dataframe , DataFrame):\n",
    "            raise TypeError(f\"Expected a DataFrame, got {type_df}\")\n",
    "    except Exception as e: \n",
    "        print(\"An error occurred: \", e)"
   ]
  },
  {
   "attachments": {},
   "cell_type": "markdown",
   "metadata": {},
   "source": [
    "## Seguimiento"
   ]
  },
  {
   "cell_type": "code",
   "execution_count": 3,
   "metadata": {},
   "outputs": [],
   "source": [
    "def seguimiento(df, tiempo, seguimiento, tolerancia=50):\n",
    "    \"\"\"\n",
    "    La función 'seguimiento' es una función que permite realizar un seguimiento a los valores de una columna mediante otra columna de tiempo.\n",
    "    Esta función realiza un seguimiento de los valores únicos de la columna seleccionada, calculando la variación neta y variacion porcentual\n",
    "    respecto a un periodo de tiempo dado. Recibe un parámetro de tolerancia que sirve como referencia para indicar cuando una variación\n",
    "    porcentual está fuera de los rangos esperados.\n",
    "    Argumentos:\n",
    "    dataframe (pyspark.sql.dataframe.DataFrame): Dataframe a procesar.\n",
    "    Tiempo (str): Nombre de la columna en el dataframe que representa el tiempo.\n",
    "    Seguimiento (str): Nombre de la columna en el dataframe que representa el seguimiento.\n",
    "    Tolerancia (int): Valor opcional de tolerancia para los cálculos. Valor por defecto: 50.\n",
    "    Retorno:\n",
    "    dataframe (pyspark.sql.dataframe.DataFrame) con los resultados de los cálculos.\n",
    "    Lanza una excepción con un mensaje de error si ocurre un error durante el procesamiento de los datos.\n",
    "    \"\"\"\n",
    "\n",
    "    # Verificar si es un dataframe\n",
    "    is_dataframe(df)\n",
    "\n",
    "    # Verificar el tipo de datos de tiempo\n",
    "    data_type = df.schema[tiempo].dataType.simpleString()\n",
    "\n",
    "    # Convertir tiempo a tipo de datos integer\n",
    "    try:\n",
    "        df = timeToInteger(data_type, df, tiempo)\n",
    "    except Exception as e:\n",
    "        print('Error al convertir el tipo de dato: ', e)\n",
    "        # Remover espacios y caracteres especiales de seguimiento\n",
    "    try:\n",
    "        df = replaceExpChar(df, seguimiento)\n",
    "    except Exception as e:\n",
    "        print('error al intentar sacar los caracteres especiales o espacios: ', e)\n",
    "    # Agrupar por tiempo y pivote seguimiento\n",
    "    try:\n",
    "        df = groupByTimePivot(df, seguimiento, tiempo)\n",
    "    except Exception as e:\n",
    "        print(\"Error al intentar agrupar por el pivot: \", e)\n",
    "\n",
    "    # Rellenar valores nulos con 0\n",
    "    try:\n",
    "        for col in df.columns: df = df.fillna(0, col)\n",
    "    except Exception as e:\n",
    "        print(\"Error al rellenar los nulos con 0 \", e)\n",
    "    # Calcular var_neta y var_porc\n",
    "    try:\n",
    "        df = var_neta_porc(df, tiempo, tolerancia)\n",
    "        return df\n",
    "    except Exception as e:\n",
    "        print('Error al procesar los datos: ', e)\n",
    "\n",
    "\n",
    "def var_neta_porc(df, tiempo, tolerancia):\n",
    "    window = Window.partitionBy().orderBy(tiempo)\n",
    "    for col in df.columns:\n",
    "        df = df.withColumn('var_neta_' + col, df[col] - lag(df[col]).over(window))\n",
    "        df = df.withColumn('var_porc_' + col,\n",
    "                           when(lag(df[col]).over(window) == 0, 0)\n",
    "                           .otherwise((df[col] - lag(df[col]).over(window)) / lag(df[col]).over(window) * 100))\n",
    "        df = df.withColumn('fuera_de_tolerancia_' + col,\n",
    "                           when(abs(df['var_porc_' + col]) > tolerancia, '*FUERA DE RANGO*')\n",
    "                           .otherwise('dentro de rango'))\n",
    "    df = df.withColumn(\"tolerancia\", lit(tolerancia))\n",
    "    return df\n",
    "\n",
    "\n",
    "def groupByTimePivot(df, seguimiento, tiempo):\n",
    "    df = df.groupBy(tiempo).pivot(seguimiento).agg(count(\"*\"))\n",
    "    df = df.sort(tiempo)\n",
    "    return df\n",
    "\n",
    "\n",
    "def replaceExpChar(df, seguimiento):\n",
    "    df = df.withColumn(seguimiento, regexp_replace(df[seguimiento], \" \", \"_\"))\n",
    "    df = df.withColumn(seguimiento, regexp_replace(df[seguimiento], \"[^a-zA-Z0-9]+\", \"\"))\n",
    "    return df\n",
    "\n",
    "\n",
    "def timeToInteger(data_type, df, tiempo):\n",
    "    if data_type == TimestampType().simpleString():\n",
    "        df = df.withColumn(tiempo, df[tiempo].cast(TimestampType()).cast(IntegerType()))\n",
    "    elif data_type == DateType().simpleString():\n",
    "        df = df.withColumn(tiempo, df[tiempo].cast(DateType()).cast(IntegerType()))\n",
    "    elif data_type == 'string':\n",
    "        df = df.withColumn(tiempo, regexp_replace(df[tiempo], \"-\", \"\"))\n",
    "        df = df.withColumn(tiempo, df[tiempo].cast(IntegerType()))\n",
    "    return df"
   ]
  },
  {
   "attachments": {},
   "cell_type": "markdown",
   "metadata": {},
   "source": [
    "## Testing \n",
    "Hay que tener ciertas consideraciones con esta función, ya que como se muestra acá es probable que genere dataframes con muchas columnas, lo cual significa un gasto de recursos.\n",
    "También el ingresar datos erroneos en la función puede generar dataframes que no sean esperados y no tengan sentido."
   ]
  },
  {
   "cell_type": "code",
   "execution_count": 4,
   "metadata": {},
   "outputs": [
    {
     "name": "stdout",
     "output_type": "stream",
     "text": [
      "+----+-----+--------+---+--------+------+-------------+--------------------+------------------------+--------------+-------------------+-------------------------+-----------------+-----------------+----------------------------+------------+------------+-----------------------+-----------------+-------------------+----------------------------+---------------+------------------+--------------------------+----------+\n",
      "|year|Disel|Elctrico|GLP|Gasolina|Hbrido|var_neta_year|       var_porc_year|fuera_de_tolerancia_year|var_neta_Disel|     var_porc_Disel|fuera_de_tolerancia_Disel|var_neta_Elctrico|var_porc_Elctrico|fuera_de_tolerancia_Elctrico|var_neta_GLP|var_porc_GLP|fuera_de_tolerancia_GLP|var_neta_Gasolina|  var_porc_Gasolina|fuera_de_tolerancia_Gasolina|var_neta_Hbrido|   var_porc_Hbrido|fuera_de_tolerancia_Hbrido|tolerancia|\n",
      "+----+-----+--------+---+--------+------+-------------+--------------------+------------------------+--------------+-------------------+-------------------------+-----------------+-----------------+----------------------------+------------+------------+-----------------------+-----------------+-------------------+----------------------------+---------------+------------------+--------------------------+----------+\n",
      "|2004|    1|       0|  0|       0|     0|         null|                null|         dentro de rango|          null|               null|          dentro de rango|             null|             null|             dentro de rango|        null|        null|        dentro de rango|             null|               null|             dentro de rango|           null|              null|           dentro de rango|        43|\n",
      "|2007|    1|       0|  0|       2|     0|            3| 0.14970059880239522|         dentro de rango|             0|                0.0|          dentro de rango|                0|              0.0|             dentro de rango|           0|         0.0|        dentro de rango|                2|                0.0|             dentro de rango|              0|               0.0|           dentro de rango|        43|\n",
      "|2008|    1|       0|  0|       1|     0|            1| 0.04982561036372695|         dentro de rango|             0|                0.0|          dentro de rango|                0|              0.0|             dentro de rango|           0|         0.0|        dentro de rango|               -1|              -50.0|            *FUERA DE RANGO*|              0|               0.0|           dentro de rango|        43|\n",
      "|2009|    1|       0|  0|       0|     0|            1|   0.049800796812749|         dentro de rango|             0|                0.0|          dentro de rango|                0|              0.0|             dentro de rango|           0|         0.0|        dentro de rango|               -1|             -100.0|            *FUERA DE RANGO*|              0|               0.0|           dentro de rango|        43|\n",
      "|2010|    2|       0|  0|       1|     0|            1|0.049776007964161276|         dentro de rango|             1|              100.0|         *FUERA DE RANGO*|                0|              0.0|             dentro de rango|           0|         0.0|        dentro de rango|                1|                0.0|             dentro de rango|              0|               0.0|           dentro de rango|        43|\n",
      "|2011|   18|       0|  0|       8|     1|            1| 0.04975124378109452|         dentro de rango|            16|              800.0|         *FUERA DE RANGO*|                0|              0.0|             dentro de rango|           0|         0.0|        dentro de rango|                7|              700.0|            *FUERA DE RANGO*|              1|               0.0|           dentro de rango|        43|\n",
      "|2012|   18|       0|  0|       3|     0|            1| 0.04972650422675286|         dentro de rango|             0|                0.0|          dentro de rango|                0|              0.0|             dentro de rango|           0|         0.0|        dentro de rango|               -5|              -62.5|            *FUERA DE RANGO*|             -1|            -100.0|          *FUERA DE RANGO*|        43|\n",
      "|2013|   30|       0|  0|       5|     0|            1|0.049701789264413515|         dentro de rango|            12|  66.66666666666666|         *FUERA DE RANGO*|                0|              0.0|             dentro de rango|           0|         0.0|        dentro de rango|                2|  66.66666666666666|            *FUERA DE RANGO*|              0|               0.0|           dentro de rango|        43|\n",
      "|2014|   43|       0|  0|      14|     1|            1| 0.04967709885742673|         dentro de rango|            13| 43.333333333333336|         *FUERA DE RANGO*|                0|              0.0|             dentro de rango|           0|         0.0|        dentro de rango|                9|              180.0|            *FUERA DE RANGO*|              1|               0.0|           dentro de rango|        43|\n",
      "|2015|   58|       0|  0|      37|     1|            1| 0.04965243296921549|         dentro de rango|            15| 34.883720930232556|          dentro de rango|                0|              0.0|             dentro de rango|           0|         0.0|        dentro de rango|               23| 164.28571428571428|            *FUERA DE RANGO*|              0|               0.0|           dentro de rango|        43|\n",
      "|2016|   75|       1|  0|      42|     2|            1| 0.04962779156327543|         dentro de rango|            17| 29.310344827586203|          dentro de rango|                1|              0.0|             dentro de rango|           0|         0.0|        dentro de rango|                5| 13.513513513513514|             dentro de rango|              1|             100.0|          *FUERA DE RANGO*|        43|\n",
      "|2017|   59|       0|  0|      63|     6|            1|  0.0496031746031746|         dentro de rango|           -16|-21.333333333333336|          dentro de rango|               -1|           -100.0|            *FUERA DE RANGO*|           0|         0.0|        dentro de rango|               21|               50.0|            *FUERA DE RANGO*|              4|             200.0|          *FUERA DE RANGO*|        43|\n",
      "|2018|   46|       2|  4|      86|    14|            1| 0.04957858205255329|         dentro de rango|           -13|-22.033898305084744|          dentro de rango|                2|              0.0|             dentro de rango|           4|         0.0|        dentro de rango|               23| 36.507936507936506|             dentro de rango|              8|133.33333333333331|          *FUERA DE RANGO*|        43|\n",
      "|2019|   14|       0|  0|      77|     3|            1|0.049554013875123884|         dentro de rango|           -32| -69.56521739130434|         *FUERA DE RANGO*|               -2|           -100.0|            *FUERA DE RANGO*|          -4|      -100.0|       *FUERA DE RANGO*|               -9|-10.465116279069768|             dentro de rango|            -11|-78.57142857142857|          *FUERA DE RANGO*|        43|\n",
      "|2020|    4|       0|  0|      23|     6|            1| 0.04952947003467063|         dentro de rango|           -10| -71.42857142857143|         *FUERA DE RANGO*|                0|              0.0|             dentro de rango|           0|         0.0|        dentro de rango|              -54| -70.12987012987013|            *FUERA DE RANGO*|              3|             100.0|          *FUERA DE RANGO*|        43|\n",
      "|2021|    6|       0|  0|      11|     1|            1| 0.04950495049504951|         dentro de rango|             2|               50.0|         *FUERA DE RANGO*|                0|              0.0|             dentro de rango|           0|         0.0|        dentro de rango|              -12| -52.17391304347826|            *FUERA DE RANGO*|             -5|-83.33333333333334|          *FUERA DE RANGO*|        43|\n",
      "+----+-----+--------+---+--------+------+-------------+--------------------+------------------------+--------------+-------------------+-------------------------+-----------------+-----------------+----------------------------+------------+------------+-----------------------+-----------------+-------------------+----------------------------+---------------+------------------+--------------------------+----------+\n",
      "\n"
     ]
    }
   ],
   "source": [
    "df_seguimiento1 = seguimiento(df_cars , 'year' , 'fuel' , 43)\n",
    "df_seguimiento1.show()"
   ]
  },
  {
   "cell_type": "code",
   "execution_count": 6,
   "metadata": {},
   "outputs": [
    {
     "name": "stdout",
     "output_type": "stream",
     "text": [
      "+----------+---+---+-------------------+--------------------+------------------------------+------------+------------+-----------------------+------------+------------------+-----------------------+----------+\n",
      "|filingDate|10K|10Q|var_neta_filingDate| var_porc_filingDate|fuera_de_tolerancia_filingDate|var_neta_10K|var_porc_10K|fuera_de_tolerancia_10K|var_neta_10Q|      var_porc_10Q|fuera_de_tolerancia_10Q|tolerancia|\n",
      "+----------+---+---+-------------------+--------------------+------------------------------+------------+------------+-----------------------+------------+------------------+-----------------------+----------+\n",
      "| 745214400|  0|  1|               null|                null|               dentro de rango|        null|        null|        dentro de rango|        null|              null|        dentro de rango|        50|\n",
      "| 753073200|  0|  1|            7858800|   1.054568993835868|               dentro de rango|           0|         0.0|        dentro de rango|           0|               0.0|        dentro de rango|        50|\n",
      "| 757652400|  0|  1|            4579200|   0.608068379010168|               dentro de rango|           0|         0.0|        dentro de rango|           0|               0.0|        dentro de rango|        50|\n",
      "| 757738800|  0|  2|              86400|0.011403646315909512|               dentro de rango|           0|         0.0|        dentro de rango|           1|             100.0|       *FUERA DE RANGO*|        50|\n",
      "| 757825200|  1|  1|              86400|0.011402346032696227|               dentro de rango|           1|         0.0|        dentro de rango|          -1|             -50.0|        dentro de rango|        50|\n",
      "| 757911600|  0|  1|              86400|0.011401046045974719|               dentro de rango|          -1|      -100.0|       *FUERA DE RANGO*|           0|               0.0|        dentro de rango|        50|\n",
      "| 758170800|  0|  1|             259200| 0.03419923906693076|               dentro de rango|           0|         0.0|        dentro de rango|           0|               0.0|        dentro de rango|        50|\n",
      "| 758257200|  0|  3|              86400|0.011395849061979173|               dentro de rango|           0|         0.0|        dentro de rango|           2|             200.0|       *FUERA DE RANGO*|        50|\n",
      "| 758343600|  0|  5|              86400|  0.0113945505561965|               dentro de rango|           0|         0.0|        dentro de rango|           2| 66.66666666666666|       *FUERA DE RANGO*|        50|\n",
      "| 758430000|  0|  5|              86400|0.011393252346297905|               dentro de rango|           0|         0.0|        dentro de rango|           0|               0.0|        dentro de rango|        50|\n",
      "| 758516400|  0|  7|              86400|0.011391954432182272|               dentro de rango|           0|         0.0|        dentro de rango|           2|              40.0|        dentro de rango|        50|\n",
      "| 759466800|  0|  1|             950400| 0.12529722495123374|               dentro de rango|           0|         0.0|        dentro de rango|          -6|-85.71428571428571|       *FUERA DE RANGO*|        50|\n",
      "| 759553200|  0|  2|              86400|0.011376402497120347|               dentro de rango|           0|         0.0|        dentro de rango|           1|             100.0|       *FUERA DE RANGO*|        50|\n",
      "| 759726000|  4|  1|             172800|0.022750216838004236|               dentro de rango|           4|         0.0|        dentro de rango|          -1|             -50.0|        dentro de rango|        50|\n",
      "| 760244400|  0|  2|             518400| 0.06823512687468902|               dentro de rango|          -4|      -100.0|       *FUERA DE RANGO*|           1|             100.0|       *FUERA DE RANGO*|        50|\n",
      "| 760330800|  0|  1|              86400| 0.01136476638302104|               dentro de rango|           0|         0.0|        dentro de rango|          -1|             -50.0|        dentro de rango|        50|\n",
      "| 760590000|  0|  5|             259200|0.034090424851919716|               dentro de rango|           0|         0.0|        dentro de rango|           4|             400.0|       *FUERA DE RANGO*|        50|\n",
      "| 760676400|  1|  0|              86400|0.011359602413915513|               dentro de rango|           1|         0.0|        dentro de rango|          -5|            -100.0|       *FUERA DE RANGO*|        50|\n",
      "| 760762800|  0|  7|              86400|0.011358312154813794|               dentro de rango|          -1|      -100.0|       *FUERA DE RANGO*|           7|               0.0|        dentro de rango|        50|\n",
      "| 760849200|  0|  3|              86400|  0.0113570221887821|               dentro de rango|           0|         0.0|        dentro de rango|          -4|-57.14285714285714|       *FUERA DE RANGO*|        50|\n",
      "+----------+---+---+-------------------+--------------------+------------------------------+------------+------------+-----------------------+------------+------------------+-----------------------+----------+\n",
      "only showing top 20 rows\n",
      "\n"
     ]
    }
   ],
   "source": [
    "df_seguimiento2 = seguimiento(df_ernigs , 'filingDate' , 'form')\n",
    "df_seguimiento2.show()"
   ]
  },
  {
   "cell_type": "code",
   "execution_count": 10,
   "metadata": {},
   "outputs": [
    {
     "name": "stdout",
     "output_type": "stream",
     "text": [
      "+----------+----+----+----+----+----+----+----+----+----+----+----+----+----+----+----+----+----+----+-------------+--------------------+------------------------+-------------+-------------+------------------------+-------------+-------------+------------------------+-------------+-------------+------------------------+-------------+-------------+------------------------+-------------+-------------+------------------------+-------------+-------------+------------------------+-------------+-------------+------------------------+-------------+-------------+------------------------+-------------+-------------+------------------------+-------------+-------------+------------------------+-------------+-------------+------------------------+-------------+-------------+------------------------+-------------+-------------+------------------------+-------------+-------------+------------------------+-------------+-------------+------------------------+-------------+-------------+------------------------+-------------+-------------+------------------------+-------------+-------------+------------------------+----------+\n",
      "|      Date|2004|2005|2006|2007|2008|2009|2010|2011|2012|2013|2014|2015|2016|2017|2018|2019|2020|2021|var_neta_Date|       var_porc_Date|fuera_de_tolerancia_Date|var_neta_2004|var_porc_2004|fuera_de_tolerancia_2004|var_neta_2005|var_porc_2005|fuera_de_tolerancia_2005|var_neta_2006|var_porc_2006|fuera_de_tolerancia_2006|var_neta_2007|var_porc_2007|fuera_de_tolerancia_2007|var_neta_2008|var_porc_2008|fuera_de_tolerancia_2008|var_neta_2009|var_porc_2009|fuera_de_tolerancia_2009|var_neta_2010|var_porc_2010|fuera_de_tolerancia_2010|var_neta_2011|var_porc_2011|fuera_de_tolerancia_2011|var_neta_2012|var_porc_2012|fuera_de_tolerancia_2012|var_neta_2013|var_porc_2013|fuera_de_tolerancia_2013|var_neta_2014|var_porc_2014|fuera_de_tolerancia_2014|var_neta_2015|var_porc_2015|fuera_de_tolerancia_2015|var_neta_2016|var_porc_2016|fuera_de_tolerancia_2016|var_neta_2017|var_porc_2017|fuera_de_tolerancia_2017|var_neta_2018|var_porc_2018|fuera_de_tolerancia_2018|var_neta_2019|var_porc_2019|fuera_de_tolerancia_2019|var_neta_2020|var_porc_2020|fuera_de_tolerancia_2020|var_neta_2021|var_porc_2021|fuera_de_tolerancia_2021|tolerancia|\n",
      "+----------+----+----+----+----+----+----+----+----+----+----+----+----+----+----+----+----+----+----+-------------+--------------------+------------------------+-------------+-------------+------------------------+-------------+-------------+------------------------+-------------+-------------+------------------------+-------------+-------------+------------------------+-------------+-------------+------------------------+-------------+-------------+------------------------+-------------+-------------+------------------------+-------------+-------------+------------------------+-------------+-------------+------------------------+-------------+-------------+------------------------+-------------+-------------+------------------------+-------------+-------------+------------------------+-------------+-------------+------------------------+-------------+-------------+------------------------+-------------+-------------+------------------------+-------------+-------------+------------------------+-------------+-------------+------------------------+-------------+-------------+------------------------+----------+\n",
      "|1072926000|   1|   0|   0|   0|   0|   0|   0|   0|   0|   0|   0|   0|   0|   0|   0|   0|   0|   0|         null|                null|         dentro de rango|         null|         null|         dentro de rango|         null|         null|         dentro de rango|         null|         null|         dentro de rango|         null|         null|         dentro de rango|         null|         null|         dentro de rango|         null|         null|         dentro de rango|         null|         null|         dentro de rango|         null|         null|         dentro de rango|         null|         null|         dentro de rango|         null|         null|         dentro de rango|         null|         null|         dentro de rango|         null|         null|         dentro de rango|         null|         null|         dentro de rango|         null|         null|         dentro de rango|         null|         null|         dentro de rango|         null|         null|         dentro de rango|         null|         null|         dentro de rango|         null|         null|         dentro de rango|        50|\n",
      "|1074481200|   1|   0|   0|   0|   0|   0|   0|   0|   0|   0|   0|   0|   0|   0|   0|   0|   0|   0|      1555200| 0.14494941869243544|         dentro de rango|            0|          0.0|         dentro de rango|            0|          0.0|         dentro de rango|            0|          0.0|         dentro de rango|            0|          0.0|         dentro de rango|            0|          0.0|         dentro de rango|            0|          0.0|         dentro de rango|            0|          0.0|         dentro de rango|            0|          0.0|         dentro de rango|            0|          0.0|         dentro de rango|            0|          0.0|         dentro de rango|            0|          0.0|         dentro de rango|            0|          0.0|         dentro de rango|            0|          0.0|         dentro de rango|            0|          0.0|         dentro de rango|            0|          0.0|         dentro de rango|            0|          0.0|         dentro de rango|            0|          0.0|         dentro de rango|            0|          0.0|         dentro de rango|        50|\n",
      "|1076727600|   1|   0|   0|   0|   0|   0|   0|   0|   0|   0|   0|   0|   0|   0|   0|   0|   0|   0|      2246400| 0.20906833921338036|         dentro de rango|            0|          0.0|         dentro de rango|            0|          0.0|         dentro de rango|            0|          0.0|         dentro de rango|            0|          0.0|         dentro de rango|            0|          0.0|         dentro de rango|            0|          0.0|         dentro de rango|            0|          0.0|         dentro de rango|            0|          0.0|         dentro de rango|            0|          0.0|         dentro de rango|            0|          0.0|         dentro de rango|            0|          0.0|         dentro de rango|            0|          0.0|         dentro de rango|            0|          0.0|         dentro de rango|            0|          0.0|         dentro de rango|            0|          0.0|         dentro de rango|            0|          0.0|         dentro de rango|            0|          0.0|         dentro de rango|            0|          0.0|         dentro de rango|        50|\n",
      "|1076900400|   1|   0|   0|   0|   0|   0|   0|   0|   0|   0|   0|   0|   0|   0|   0|   0|   0|   0|       172800|0.016048627340842753|         dentro de rango|            0|          0.0|         dentro de rango|            0|          0.0|         dentro de rango|            0|          0.0|         dentro de rango|            0|          0.0|         dentro de rango|            0|          0.0|         dentro de rango|            0|          0.0|         dentro de rango|            0|          0.0|         dentro de rango|            0|          0.0|         dentro de rango|            0|          0.0|         dentro de rango|            0|          0.0|         dentro de rango|            0|          0.0|         dentro de rango|            0|          0.0|         dentro de rango|            0|          0.0|         dentro de rango|            0|          0.0|         dentro de rango|            0|          0.0|         dentro de rango|            0|          0.0|         dentro de rango|            0|          0.0|         dentro de rango|            0|          0.0|         dentro de rango|        50|\n",
      "|1081656000|   2|   0|   0|   0|   0|   0|   0|   0|   0|   0|   0|   0|   0|   0|   0|   0|   0|   0|      4755600| 0.44160072742103174|         dentro de rango|            1|        100.0|        *FUERA DE RANGO*|            0|          0.0|         dentro de rango|            0|          0.0|         dentro de rango|            0|          0.0|         dentro de rango|            0|          0.0|         dentro de rango|            0|          0.0|         dentro de rango|            0|          0.0|         dentro de rango|            0|          0.0|         dentro de rango|            0|          0.0|         dentro de rango|            0|          0.0|         dentro de rango|            0|          0.0|         dentro de rango|            0|          0.0|         dentro de rango|            0|          0.0|         dentro de rango|            0|          0.0|         dentro de rango|            0|          0.0|         dentro de rango|            0|          0.0|         dentro de rango|            0|          0.0|         dentro de rango|            0|          0.0|         dentro de rango|        50|\n",
      "|1085976000|   1|   0|   0|   0|   0|   0|   0|   0|   0|   0|   0|   0|   0|   0|   0|   0|   0|   0|      4320000|   0.399387605671304|         dentro de rango|           -1|        -50.0|         dentro de rango|            0|          0.0|         dentro de rango|            0|          0.0|         dentro de rango|            0|          0.0|         dentro de rango|            0|          0.0|         dentro de rango|            0|          0.0|         dentro de rango|            0|          0.0|         dentro de rango|            0|          0.0|         dentro de rango|            0|          0.0|         dentro de rango|            0|          0.0|         dentro de rango|            0|          0.0|         dentro de rango|            0|          0.0|         dentro de rango|            0|          0.0|         dentro de rango|            0|          0.0|         dentro de rango|            0|          0.0|         dentro de rango|            0|          0.0|         dentro de rango|            0|          0.0|         dentro de rango|            0|          0.0|         dentro de rango|        50|\n",
      "|1087617600|   1|   0|   0|   0|   0|   0|   0|   0|   0|   0|   0|   0|   0|   0|   0|   0|   0|   0|      1641600|  0.1511635616256713|         dentro de rango|            0|          0.0|         dentro de rango|            0|          0.0|         dentro de rango|            0|          0.0|         dentro de rango|            0|          0.0|         dentro de rango|            0|          0.0|         dentro de rango|            0|          0.0|         dentro de rango|            0|          0.0|         dentro de rango|            0|          0.0|         dentro de rango|            0|          0.0|         dentro de rango|            0|          0.0|         dentro de rango|            0|          0.0|         dentro de rango|            0|          0.0|         dentro de rango|            0|          0.0|         dentro de rango|            0|          0.0|         dentro de rango|            0|          0.0|         dentro de rango|            0|          0.0|         dentro de rango|            0|          0.0|         dentro de rango|            0|          0.0|         dentro de rango|        50|\n",
      "|1088913600|   1|   0|   0|   0|   0|   0|   0|   0|   0|   0|   0|   0|   0|   0|   0|   0|   0|   0|      1296000|  0.1191595281282686|         dentro de rango|            0|          0.0|         dentro de rango|            0|          0.0|         dentro de rango|            0|          0.0|         dentro de rango|            0|          0.0|         dentro de rango|            0|          0.0|         dentro de rango|            0|          0.0|         dentro de rango|            0|          0.0|         dentro de rango|            0|          0.0|         dentro de rango|            0|          0.0|         dentro de rango|            0|          0.0|         dentro de rango|            0|          0.0|         dentro de rango|            0|          0.0|         dentro de rango|            0|          0.0|         dentro de rango|            0|          0.0|         dentro de rango|            0|          0.0|         dentro de rango|            0|          0.0|         dentro de rango|            0|          0.0|         dentro de rango|            0|          0.0|         dentro de rango|        50|\n",
      "|1094270400|   1|   0|   0|   0|   0|   0|   0|   0|   0|   0|   0|   0|   0|   0|   0|   0|   0|   0|      5356800|     0.4919398563853|         dentro de rango|            0|          0.0|         dentro de rango|            0|          0.0|         dentro de rango|            0|          0.0|         dentro de rango|            0|          0.0|         dentro de rango|            0|          0.0|         dentro de rango|            0|          0.0|         dentro de rango|            0|          0.0|         dentro de rango|            0|          0.0|         dentro de rango|            0|          0.0|         dentro de rango|            0|          0.0|         dentro de rango|            0|          0.0|         dentro de rango|            0|          0.0|         dentro de rango|            0|          0.0|         dentro de rango|            0|          0.0|         dentro de rango|            0|          0.0|         dentro de rango|            0|          0.0|         dentro de rango|            0|          0.0|         dentro de rango|            0|          0.0|         dentro de rango|        50|\n",
      "|1094356800|   1|   0|   0|   0|   0|   0|   0|   0|   0|   0|   0|   0|   0|   0|   0|   0|   0|   0|        86400|0.007895671855877669|         dentro de rango|            0|          0.0|         dentro de rango|            0|          0.0|         dentro de rango|            0|          0.0|         dentro de rango|            0|          0.0|         dentro de rango|            0|          0.0|         dentro de rango|            0|          0.0|         dentro de rango|            0|          0.0|         dentro de rango|            0|          0.0|         dentro de rango|            0|          0.0|         dentro de rango|            0|          0.0|         dentro de rango|            0|          0.0|         dentro de rango|            0|          0.0|         dentro de rango|            0|          0.0|         dentro de rango|            0|          0.0|         dentro de rango|            0|          0.0|         dentro de rango|            0|          0.0|         dentro de rango|            0|          0.0|         dentro de rango|            0|          0.0|         dentro de rango|        50|\n",
      "|1094443200|   1|   0|   0|   0|   0|   0|   0|   0|   0|   0|   0|   0|   0|   0|   0|   0|   0|   0|        86400|0.007895048488756135|         dentro de rango|            0|          0.0|         dentro de rango|            0|          0.0|         dentro de rango|            0|          0.0|         dentro de rango|            0|          0.0|         dentro de rango|            0|          0.0|         dentro de rango|            0|          0.0|         dentro de rango|            0|          0.0|         dentro de rango|            0|          0.0|         dentro de rango|            0|          0.0|         dentro de rango|            0|          0.0|         dentro de rango|            0|          0.0|         dentro de rango|            0|          0.0|         dentro de rango|            0|          0.0|         dentro de rango|            0|          0.0|         dentro de rango|            0|          0.0|         dentro de rango|            0|          0.0|         dentro de rango|            0|          0.0|         dentro de rango|            0|          0.0|         dentro de rango|        50|\n",
      "|1097463600|   1|   0|   0|   0|   0|   0|   0|   0|   0|   0|   0|   0|   0|   0|   0|   0|   0|   0|      3020400| 0.27597594831782957|         dentro de rango|            0|          0.0|         dentro de rango|            0|          0.0|         dentro de rango|            0|          0.0|         dentro de rango|            0|          0.0|         dentro de rango|            0|          0.0|         dentro de rango|            0|          0.0|         dentro de rango|            0|          0.0|         dentro de rango|            0|          0.0|         dentro de rango|            0|          0.0|         dentro de rango|            0|          0.0|         dentro de rango|            0|          0.0|         dentro de rango|            0|          0.0|         dentro de rango|            0|          0.0|         dentro de rango|            0|          0.0|         dentro de rango|            0|          0.0|         dentro de rango|            0|          0.0|         dentro de rango|            0|          0.0|         dentro de rango|            0|          0.0|         dentro de rango|        50|\n",
      "|1100142000|   1|   0|   0|   0|   0|   0|   0|   0|   0|   0|   0|   0|   0|   0|   0|   0|   0|   0|      2678400| 0.24405365244004446|         dentro de rango|            0|          0.0|         dentro de rango|            0|          0.0|         dentro de rango|            0|          0.0|         dentro de rango|            0|          0.0|         dentro de rango|            0|          0.0|         dentro de rango|            0|          0.0|         dentro de rango|            0|          0.0|         dentro de rango|            0|          0.0|         dentro de rango|            0|          0.0|         dentro de rango|            0|          0.0|         dentro de rango|            0|          0.0|         dentro de rango|            0|          0.0|         dentro de rango|            0|          0.0|         dentro de rango|            0|          0.0|         dentro de rango|            0|          0.0|         dentro de rango|            0|          0.0|         dentro de rango|            0|          0.0|         dentro de rango|            0|          0.0|         dentro de rango|        50|\n",
      "|1101265200|   1|   0|   0|   0|   0|   0|   0|   0|   0|   0|   0|   0|   0|   0|   0|   0|   0|   0|      1123200| 0.10209591125509253|         dentro de rango|            0|          0.0|         dentro de rango|            0|          0.0|         dentro de rango|            0|          0.0|         dentro de rango|            0|          0.0|         dentro de rango|            0|          0.0|         dentro de rango|            0|          0.0|         dentro de rango|            0|          0.0|         dentro de rango|            0|          0.0|         dentro de rango|            0|          0.0|         dentro de rango|            0|          0.0|         dentro de rango|            0|          0.0|         dentro de rango|            0|          0.0|         dentro de rango|            0|          0.0|         dentro de rango|            0|          0.0|         dentro de rango|            0|          0.0|         dentro de rango|            0|          0.0|         dentro de rango|            0|          0.0|         dentro de rango|            0|          0.0|         dentro de rango|        50|\n",
      "|1101351600|   1|   0|   0|   0|   0|   0|   0|   0|   0|   0|   0|   0|   0|   0|   0|   0|   0|   0|        86400|0.007845521678157087|         dentro de rango|            0|          0.0|         dentro de rango|            0|          0.0|         dentro de rango|            0|          0.0|         dentro de rango|            0|          0.0|         dentro de rango|            0|          0.0|         dentro de rango|            0|          0.0|         dentro de rango|            0|          0.0|         dentro de rango|            0|          0.0|         dentro de rango|            0|          0.0|         dentro de rango|            0|          0.0|         dentro de rango|            0|          0.0|         dentro de rango|            0|          0.0|         dentro de rango|            0|          0.0|         dentro de rango|            0|          0.0|         dentro de rango|            0|          0.0|         dentro de rango|            0|          0.0|         dentro de rango|            0|          0.0|         dentro de rango|            0|          0.0|         dentro de rango|        50|\n",
      "|1103857200|   1|   0|   0|   0|   0|   0|   0|   0|   0|   0|   0|   0|   0|   0|   0|   0|   0|   0|      2505600| 0.22750227992586564|         dentro de rango|            0|          0.0|         dentro de rango|            0|          0.0|         dentro de rango|            0|          0.0|         dentro de rango|            0|          0.0|         dentro de rango|            0|          0.0|         dentro de rango|            0|          0.0|         dentro de rango|            0|          0.0|         dentro de rango|            0|          0.0|         dentro de rango|            0|          0.0|         dentro de rango|            0|          0.0|         dentro de rango|            0|          0.0|         dentro de rango|            0|          0.0|         dentro de rango|            0|          0.0|         dentro de rango|            0|          0.0|         dentro de rango|            0|          0.0|         dentro de rango|            0|          0.0|         dentro de rango|            0|          0.0|         dentro de rango|            0|          0.0|         dentro de rango|        50|\n",
      "|1103943600|   1|   0|   0|   0|   0|   0|   0|   0|   0|   0|   0|   0|   0|   0|   0|   0|   0|   0|        86400|0.007827099374810437|         dentro de rango|            0|          0.0|         dentro de rango|            0|          0.0|         dentro de rango|            0|          0.0|         dentro de rango|            0|          0.0|         dentro de rango|            0|          0.0|         dentro de rango|            0|          0.0|         dentro de rango|            0|          0.0|         dentro de rango|            0|          0.0|         dentro de rango|            0|          0.0|         dentro de rango|            0|          0.0|         dentro de rango|            0|          0.0|         dentro de rango|            0|          0.0|         dentro de rango|            0|          0.0|         dentro de rango|            0|          0.0|         dentro de rango|            0|          0.0|         dentro de rango|            0|          0.0|         dentro de rango|            0|          0.0|         dentro de rango|            0|          0.0|         dentro de rango|        50|\n",
      "|1104462000|   1|   0|   0|   0|   0|   0|   0|   0|   0|   0|   0|   0|   0|   0|   0|   0|   0|   0|       518400| 0.04695892072747195|         dentro de rango|            0|          0.0|         dentro de rango|            0|          0.0|         dentro de rango|            0|          0.0|         dentro de rango|            0|          0.0|         dentro de rango|            0|          0.0|         dentro de rango|            0|          0.0|         dentro de rango|            0|          0.0|         dentro de rango|            0|          0.0|         dentro de rango|            0|          0.0|         dentro de rango|            0|          0.0|         dentro de rango|            0|          0.0|         dentro de rango|            0|          0.0|         dentro de rango|            0|          0.0|         dentro de rango|            0|          0.0|         dentro de rango|            0|          0.0|         dentro de rango|            0|          0.0|         dentro de rango|            0|          0.0|         dentro de rango|            0|          0.0|         dentro de rango|        50|\n",
      "|1104548400|   0|   1|   0|   0|   0|   0|   0|   0|   0|   0|   0|   0|   0|   0|   0|   0|   0|   0|        86400|0.007822813279225542|         dentro de rango|           -1|       -100.0|        *FUERA DE RANGO*|            1|          0.0|         dentro de rango|            0|          0.0|         dentro de rango|            0|          0.0|         dentro de rango|            0|          0.0|         dentro de rango|            0|          0.0|         dentro de rango|            0|          0.0|         dentro de rango|            0|          0.0|         dentro de rango|            0|          0.0|         dentro de rango|            0|          0.0|         dentro de rango|            0|          0.0|         dentro de rango|            0|          0.0|         dentro de rango|            0|          0.0|         dentro de rango|            0|          0.0|         dentro de rango|            0|          0.0|         dentro de rango|            0|          0.0|         dentro de rango|            0|          0.0|         dentro de rango|            0|          0.0|         dentro de rango|        50|\n",
      "|1105930800|   0|   1|   0|   0|   0|   0|   0|   0|   0|   0|   0|   0|   0|   0|   0|   0|   0|   0|      1382400| 0.12515522180829738|         dentro de rango|            0|          0.0|         dentro de rango|            0|          0.0|         dentro de rango|            0|          0.0|         dentro de rango|            0|          0.0|         dentro de rango|            0|          0.0|         dentro de rango|            0|          0.0|         dentro de rango|            0|          0.0|         dentro de rango|            0|          0.0|         dentro de rango|            0|          0.0|         dentro de rango|            0|          0.0|         dentro de rango|            0|          0.0|         dentro de rango|            0|          0.0|         dentro de rango|            0|          0.0|         dentro de rango|            0|          0.0|         dentro de rango|            0|          0.0|         dentro de rango|            0|          0.0|         dentro de rango|            0|          0.0|         dentro de rango|            0|          0.0|         dentro de rango|        50|\n",
      "+----------+----+----+----+----+----+----+----+----+----+----+----+----+----+----+----+----+----+----+-------------+--------------------+------------------------+-------------+-------------+------------------------+-------------+-------------+------------------------+-------------+-------------+------------------------+-------------+-------------+------------------------+-------------+-------------+------------------------+-------------+-------------+------------------------+-------------+-------------+------------------------+-------------+-------------+------------------------+-------------+-------------+------------------------+-------------+-------------+------------------------+-------------+-------------+------------------------+-------------+-------------+------------------------+-------------+-------------+------------------------+-------------+-------------+------------------------+-------------+-------------+------------------------+-------------+-------------+------------------------+-------------+-------------+------------------------+-------------+-------------+------------------------+----------+\n",
      "only showing top 20 rows\n",
      "\n"
     ]
    }
   ],
   "source": [
    "df_seguimiento3 = seguimiento(df_dates , 'Date' , 'Year')\n",
    "df_seguimiento3.show()"
   ]
  }
 ],
 "metadata": {
  "kernelspec": {
   "display_name": "Python 3",
   "language": "python",
   "name": "python3"
  },
  "language_info": {
   "codemirror_mode": {
    "name": "ipython",
    "version": 3
   },
   "file_extension": ".py",
   "mimetype": "text/x-python",
   "name": "python",
   "nbconvert_exporter": "python",
   "pygments_lexer": "ipython3",
   "version": "3.11.1"
  },
  "orig_nbformat": 4,
  "vscode": {
   "interpreter": {
    "hash": "5238573367df39f7286bb46f9ff5f08f63a01a80960060ce41e3c79b190280fa"
   }
  }
 },
 "nbformat": 4,
 "nbformat_minor": 2
}
