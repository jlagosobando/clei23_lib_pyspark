{
 "cells": [
  {
   "attachments": {},
   "cell_type": "markdown",
   "metadata": {},
   "source": [
    "# inferSchema\n"
   ]
  },
  {
   "attachments": {},
   "cell_type": "markdown",
   "metadata": {},
   "source": [
    "## importaciones\n",
    "Nota: estas importaciones son necesarias para este notebook, si quiere ver las importaciones necesarias para la función específica vaya al archivo original [inferSchema](../features/inferSchema.py)"
   ]
  },
  {
   "cell_type": "code",
   "execution_count": 1,
   "metadata": {},
   "outputs": [],
   "source": [
    "from pyspark.sql import SparkSession\n",
    "from pyspark.sql.types import *\n",
    "from pyspark.sql.functions import *\n",
    "from pyspark.sql.window import Window\n",
    "from pyspark.sql.dataframe import DataFrame\n",
    "import re \n",
    "spark = SparkSession.builder.getOrCreate()\n",
    "\n"
   ]
  },
  {
   "attachments": {},
   "cell_type": "markdown",
   "metadata": {},
   "source": [
    "## Dataframes y validaciones \n",
    "Estos son dataframes de testeo obtenido de internet. \n",
    "Las validaciones son una pieza importante de la parte técnica de la librería. Para más detalle vea las  [validaciones](../validaciones/validaciones.py)"
   ]
  },
  {
   "cell_type": "code",
   "execution_count": 2,
   "metadata": {},
   "outputs": [],
   "source": [
    "df_cars = spark.read.csv('csv/used_cars_data.csv' , header=True )\n",
    "df_countries = spark.read.csv('csv/countries.csv' ,header= True  )\n",
    "df_dates = spark.read.csv('csv/US_Holiday_Dates_(2004-2021).csv' , header=True )\n",
    "df_cop = spark.read.csv('csv/eurocup_2020_results.csv', header= True)\n",
    "df_test = spark.read.csv('csv/Countries_usefulFeatures.csv' , header= True )\n",
    "df_ernigs = spark.read.csv('csv/all_earnings_dates.csv' , header= True )\n",
    "df_null = spark.read.csv('csv/cars_null.csv' , header= True  )\n",
    "df_seph = spark.read.csv('csv/sephora_website_dataset.csv', header= True)\n",
    "df_tw = spark.read.csv('csv/most_followed_twitter.csv' , header= True)\n",
    "df_airlines = spark.read.csv('csv/airlines.csv' , header= True)\n",
    "\n",
    "def is_dataframe(dataframe):\n",
    "    try:\n",
    "        type_df = type(dataframe)\n",
    "        if not isinstance(dataframe , DataFrame):\n",
    "            raise TypeError(f\"Expected a DataFrame, got {type_df}\")\n",
    "    except Exception as e: \n",
    "        print(\"An error occurred: \", e)\n",
    "def sel_num_cols(dataframe): \n",
    "    lista_columnas_numericas =  []\n",
    "    tipos_numericos = [LongType().simpleString(), DoubleType().simpleString(), \n",
    "        IntegerType().simpleString() , ShortType().simpleString() ,\n",
    "        FloatType().simpleString() , DecimalType().simpleString()]\n",
    "    for columnas, dtype in dataframe.dtypes:\n",
    "        if dtype in tipos_numericos: lista_columnas_numericas.append(columnas)\n",
    "    \n",
    "    return lista_columnas_numericas"
   ]
  },
  {
   "attachments": {},
   "cell_type": "markdown",
   "metadata": {},
   "source": [
    "## InferSchema\n"
   ]
  },
  {
   "cell_type": "code",
   "execution_count": 3,
   "metadata": {},
   "outputs": [],
   "source": [
    "def inferSchema(dataframe):\n",
    "    \"\"\"\n",
    "    La función 'inferSchema' es una función que infiere y transforma los tipos de datos de cada columna a los que corresponda.\n",
    "    La función recorre cada columna tomando el primer tipo de dato de la columna para evaluarlo, dependiendo de esa evaluación\n",
    "    el tipo de dato de la columna cambiará.\n",
    "    El patrón que sigue la función para identificar el tipo de dato es verificar caracteres que se obtenga de la muestra, debido a esto\n",
    "    la función primero transforma todas las columnas a string.\n",
    "\n",
    "    Argumentos:\n",
    "    dataframe (pyspark.sql.dataframe.DataFrame): Dataframe al que se le desea hacer un cambio de tipo de datos de cada columna.\n",
    "\n",
    "     Retorno\n",
    "    dataframe (pyspark.sql.dataframe.DataFrame): Dataframe con tipo de datos de las columnas inferidas.\n",
    "    \"\"\"\n",
    "    is_dataframe(dataframe) \n",
    "    try:\n",
    "        dataframe = dataframe.select([col(c).cast(\"string\") for c in dataframe.columns])\n",
    "        for columna in dataframe.columns: \n",
    "            first_value = dataframe.select(col(columna)).first()[0]\n",
    "            if contains_letter(first_value):\n",
    "                dataframe = dataframe.withColumn(columna , col(columna).cast(StringType())) \n",
    "                print(f'{columna} | string -> string')\n",
    "            elif columna == \"Date\":\n",
    "                contador = first_value.count(\".\")\n",
    "                if '-' in first_value:\n",
    "                    dataframe = dataframe.withColumn(columna , col(columna).cast(DateType()))  \n",
    "                    print(f'{columna} | string -> date')     \n",
    "                elif contador == 2: \n",
    "                    dataframe = dataframe.withColumn(columna, regexp_replace(dataframe[columna], \"[^a-zA-Z0-9]+\", \"\"))\n",
    "                    dataframe = dataframe.withColumn(columna , col(columna).cast((IntegerType()))) \n",
    "                    print(f'{columna} | string -> integer')\n",
    "            elif '.' in first_value:\n",
    "                contador = first_value.count(\".\")\n",
    "                if contador == 2: \n",
    "                    dataframe = dataframe.withColumn(columna, regexp_replace(dataframe[columna], \"[^a-zA-Z0-9]+\", \"\"))\n",
    "                    dataframe = dataframe.withColumn(columna , col(columna).cast((IntegerType()))) \n",
    "                    print(f'{columna} | string -> date')\n",
    "                elif contador == 1:\n",
    "                    dataframe = dataframe.withColumn(columna , col(columna).cast(DoubleType()))\n",
    "                    print(f'{columna} | string -> double') \n",
    "                else:\n",
    "                    dataframe = dataframe.withColumn(columna , col(columna).cast(StringType()))   \n",
    "                    print(f'{columna} | string -> string')\n",
    "            elif \"-\"  in first_value:\n",
    "                contador = first_value.count(\"-\")\n",
    "                if contador == 2:\n",
    "                    dataframe = dataframe.withColumn(columna , col(columna).cast(DateType()))  \n",
    "                    print(f'{columna} | string -> date')\n",
    "                else: \n",
    "                    dataframe = dataframe.withColumn(columna , col(columna).cast(StringType()))   \n",
    "                    print(f'{columna} | string -> string')\n",
    "            elif \"/\" in first_value:\n",
    "                contador = first_value.count(\"/\")\n",
    "                if contador == 2:\n",
    "                    dataframe = dataframe.withColumn(columna , col(columna).cast(DateType()))\n",
    "                    print(f'{columna} | string -> date')\n",
    "                else: \n",
    "                    dataframe = dataframe.withColumn(columna , col(columna).cast(StringType()))   \n",
    "                    print(f'{columna} | string -> string')\n",
    "\n",
    "            elif \"True\" in first_value:\n",
    "                dataframe = dataframe.withColumn(columna , col(columna).cast(BooleanType()))\n",
    "                print(f'{columna} | string -> bool')\n",
    "            elif \"False\" in first_value:\n",
    "                dataframe = dataframe.withColumn(columna , col(columna).cast(BooleanType()))\n",
    "                print(f'{columna} | string -> bool')\n",
    "            elif first_value.isnumeric():\n",
    "                dataframe = dataframe.withColumn(columna , col(columna).cast(LongType()))\n",
    "                try:\n",
    "                    dataframe = dataframe.withColumn(columna , col(columna).cast((IntegerType())))\n",
    "                    print(f'{columna} | string -> integer')\n",
    "                except:\n",
    "                    dataframe = dataframe.withColumn(columna , col(columna).cast(LongType()))\n",
    "                    print(f'{columna} | string -> long')\n",
    "                    pass\n",
    "            else:\n",
    "                dataframe = dataframe.withColumn(columna , col(columna).cast(StringType()))   \n",
    "                print(f'{columna} | string -> string')\n",
    "        return dataframe\n",
    "    except Exception as e :\n",
    "        print('Ha ocurrido un erro al momento de inferir el schema: ' , e )\n",
    "\n",
    "def contains_letter(string):\n",
    "    return bool(re.search(\"[a-zA-Z]\", string))\n",
    "\n",
    "\n",
    "  \n",
    "\n"
   ]
  },
  {
   "attachments": {},
   "cell_type": "markdown",
   "metadata": {},
   "source": [
    "## Testeo \n",
    "Se va a inferir el schema de cada dataframe y luego veremos el detalle del dataframe y sus tipos de datos "
   ]
  },
  {
   "cell_type": "code",
   "execution_count": 4,
   "metadata": {},
   "outputs": [
    {
     "name": "stdout",
     "output_type": "stream",
     "text": [
      "_c0 | string -> integer\n",
      "brand | string -> string\n",
      "model | string -> string\n",
      "price (eur) | string -> integer\n",
      "engine | string -> string\n",
      "year | string -> integer\n",
      "mileage (kms) | string -> integer\n",
      "fuel | string -> string\n",
      "gearbox | string -> string\n",
      "location | string -> string\n",
      "county_FIPS | string -> integer\n",
      "state | string -> string\n",
      "county | string -> string\n",
      "per_capita_personal_income_2019 | string -> integer\n",
      "per_capita_personal_income_2020 | string -> integer\n",
      "per_capita_personal_income_2021 | string -> integer\n",
      "associate_degree_numbers_2016_2020 | string -> integer\n",
      "bachelor_degree_numbers_2016_2020 | string -> integer\n",
      "associate_degree_percentage_2016_2020 | string -> double\n",
      "bachelor_degree_percentage_2015_2019 | string -> double\n",
      "filingDate | string -> date\n",
      "reportDate | string -> date\n",
      "ticker | string -> string\n",
      "form | string -> string\n",
      "Date | string -> date\n",
      "Holiday | string -> string\n",
      "WeekDay | string -> string\n",
      "Month | string -> integer\n",
      "Day | string -> integer\n",
      "Year | string -> integer\n",
      "stage | string -> string\n",
      "date | string -> date\n",
      "pens | string -> string\n",
      "pens_home_score | string -> integer\n",
      "pens_away_score | string -> integer\n",
      "team_name_home | string -> string\n",
      "team_name_away | string -> string\n",
      "team_home_score | string -> integer\n",
      "team_away_score | string -> integer\n",
      "possession_home | string -> string\n",
      "possession_away | string -> string\n",
      "total_shots_home | string -> integer\n",
      "total_shots_away | string -> string\n",
      "shots_on_target_home | string -> integer\n",
      "shots_on_target_away | string -> string\n",
      "duels_won_home | string -> string\n",
      "duels_won_away | string -> string\n",
      "events_list | string -> string\n",
      "lineup_home | string -> string\n",
      "lineup_away | string -> string\n",
      "Rank | string -> integer\n",
      "Account Name | string -> string\n",
      "Account Owner | string -> string\n",
      "Brand Account(Y/N) | string -> string\n",
      "Followers(in M) | string -> double\n",
      "Occupation | string -> string\n",
      "Country | string -> string\n",
      "Airline ID | string -> string\n",
      "Name | string -> string\n",
      "Alias | string -> string\n",
      "IATA | string -> string\n",
      "ICAO | string -> string\n",
      "Callsign | string -> string\n",
      "Country | string -> string\n",
      "Active | string -> string\n",
      "id | string -> integer\n",
      "brand | string -> string\n",
      "category | string -> string\n",
      "name | string -> string\n",
      "size | string -> string\n",
      "rating | string -> double\n",
      "number_of_reviews | string -> integer\n",
      "love | string -> integer\n",
      "price | string -> double\n",
      "value_price | string -> double\n",
      "URL | string -> string\n",
      "MarketingFlags | string -> string\n",
      "MarketingFlags_content | string -> string\n",
      "options | string -> string\n",
      "details | string -> string\n",
      "how_to_use | string -> string\n",
      "ingredients | string -> string\n",
      "online_only | string -> integer\n",
      "exclusive | string -> integer\n",
      "limited_edition | string -> integer\n",
      "limited_time_offer | string -> integer\n"
     ]
    }
   ],
   "source": [
    "df_infer1 = inferSchema(df_cars)\n",
    "df_infer2 = inferSchema(df_countries)\n",
    "df_infer3 = inferSchema(df_ernigs)\n",
    "df_infer4 = inferSchema(df_dates)\n",
    "df_infer5 = inferSchema(df_cop)\n",
    "df_infer6 = inferSchema(df_tw)\n",
    "df_infer7 = inferSchema(df_airlines)\n",
    "df_infer8 = inferSchema(df_seph)"
   ]
  },
  {
   "cell_type": "code",
   "execution_count": 5,
   "metadata": {},
   "outputs": [
    {
     "name": "stdout",
     "output_type": "stream",
     "text": [
      "+---+-------+-----+-----------+--------------------+----+-------------+--------+-------+----------+\n",
      "|_c0|  brand|model|price (eur)|              engine|year|mileage (kms)|    fuel|gearbox|  location|\n",
      "+---+-------+-----+-----------+--------------------+----+-------------+--------+-------+----------+\n",
      "|  0|   SEAT|Ibiza|       8990|SC 1.2 TSI 90cv S...|2016|        67000|Gasolina| Manual|Granollers|\n",
      "|  1|Hyundai|  i30|       9990|1.6 CRDi 110cv Tecno|2014|       104868|  Diésel| Manual|Viladecans|\n",
      "+---+-------+-----+-----------+--------------------+----+-------------+--------+-------+----------+\n",
      "only showing top 2 rows\n",
      "\n",
      "root\n",
      " |-- _c0: integer (nullable = true)\n",
      " |-- brand: string (nullable = true)\n",
      " |-- model: string (nullable = true)\n",
      " |-- price (eur): integer (nullable = true)\n",
      " |-- engine: string (nullable = true)\n",
      " |-- year: integer (nullable = true)\n",
      " |-- mileage (kms): integer (nullable = true)\n",
      " |-- fuel: string (nullable = true)\n",
      " |-- gearbox: string (nullable = true)\n",
      " |-- location: string (nullable = true)\n",
      "\n"
     ]
    }
   ],
   "source": [
    "df_infer1.show(2)\n",
    "df_infer1.printSchema()"
   ]
  },
  {
   "cell_type": "code",
   "execution_count": 6,
   "metadata": {},
   "outputs": [
    {
     "name": "stdout",
     "output_type": "stream",
     "text": [
      "+-----------+-----+--------------+-------------------------------+-------------------------------+-------------------------------+----------------------------------+---------------------------------+-------------------------------------+------------------------------------+\n",
      "|county_FIPS|state|        county|per_capita_personal_income_2019|per_capita_personal_income_2020|per_capita_personal_income_2021|associate_degree_numbers_2016_2020|bachelor_degree_numbers_2016_2020|associate_degree_percentage_2016_2020|bachelor_degree_percentage_2015_2019|\n",
      "+-----------+-----+--------------+-------------------------------+-------------------------------+-------------------------------+----------------------------------+---------------------------------+-------------------------------------+------------------------------------+\n",
      "|      51013|   VA| Arlington, VA|                          97629|                         100687|                         107603|                             19573|                           132394|                                11.21|                               75.84|\n",
      "|      35028|   NM|Los Alamos, NM|                          72366|                          75949|                          81306|                              2766|                             9098|                                20.54|                               67.56|\n",
      "+-----------+-----+--------------+-------------------------------+-------------------------------+-------------------------------+----------------------------------+---------------------------------+-------------------------------------+------------------------------------+\n",
      "only showing top 2 rows\n",
      "\n",
      "root\n",
      " |-- county_FIPS: integer (nullable = true)\n",
      " |-- state: string (nullable = true)\n",
      " |-- county: string (nullable = true)\n",
      " |-- per_capita_personal_income_2019: integer (nullable = true)\n",
      " |-- per_capita_personal_income_2020: integer (nullable = true)\n",
      " |-- per_capita_personal_income_2021: integer (nullable = true)\n",
      " |-- associate_degree_numbers_2016_2020: integer (nullable = true)\n",
      " |-- bachelor_degree_numbers_2016_2020: integer (nullable = true)\n",
      " |-- associate_degree_percentage_2016_2020: double (nullable = true)\n",
      " |-- bachelor_degree_percentage_2015_2019: double (nullable = true)\n",
      "\n"
     ]
    }
   ],
   "source": [
    "df_infer2.show(2)\n",
    "df_infer2.printSchema()"
   ]
  },
  {
   "cell_type": "code",
   "execution_count": 7,
   "metadata": {},
   "outputs": [
    {
     "name": "stdout",
     "output_type": "stream",
     "text": [
      "+----------+----------+------+----+\n",
      "|filingDate|reportDate|ticker|form|\n",
      "+----------+----------+------+----+\n",
      "|2008-07-11|2008-05-31|   AIR|10-K|\n",
      "|2007-07-20|2007-05-31|   AIR|10-K|\n",
      "+----------+----------+------+----+\n",
      "only showing top 2 rows\n",
      "\n",
      "root\n",
      " |-- filingDate: date (nullable = true)\n",
      " |-- reportDate: date (nullable = true)\n",
      " |-- ticker: string (nullable = true)\n",
      " |-- form: string (nullable = true)\n",
      "\n"
     ]
    }
   ],
   "source": [
    "df_infer3.show(2)\n",
    "df_infer3.printSchema()"
   ]
  },
  {
   "cell_type": "code",
   "execution_count": 8,
   "metadata": {},
   "outputs": [
    {
     "name": "stdout",
     "output_type": "stream",
     "text": [
      "+----------+-----------+-------+-----+---+----+\n",
      "|      Date|    Holiday|WeekDay|Month|Day|Year|\n",
      "+----------+-----------+-------+-----+---+----+\n",
      "|2004-07-04|4th of July| Sunday|    7|  4|2004|\n",
      "|2005-07-04|4th of July| Monday|    7|  4|2005|\n",
      "+----------+-----------+-------+-----+---+----+\n",
      "only showing top 2 rows\n",
      "\n",
      "root\n",
      " |-- Date: date (nullable = true)\n",
      " |-- Holiday: string (nullable = true)\n",
      " |-- WeekDay: string (nullable = true)\n",
      " |-- Month: integer (nullable = true)\n",
      " |-- Day: integer (nullable = true)\n",
      " |-- Year: integer (nullable = true)\n",
      "\n"
     ]
    }
   ],
   "source": [
    "df_infer4.show(2)\n",
    "df_infer4.printSchema()"
   ]
  },
  {
   "cell_type": "code",
   "execution_count": 9,
   "metadata": {},
   "outputs": [
    {
     "name": "stdout",
     "output_type": "stream",
     "text": [
      "+-------------+--------+-----+---------------+---------------+--------------+--------------+---------------+---------------+---------------+---------------+----------------+----------------+--------------------+--------------------+--------------+--------------+--------------------+--------------------+--------------------+\n",
      "|        stage|    date| pens|pens_home_score|pens_away_score|team_name_home|team_name_away|team_home_score|team_away_score|possession_home|possession_away|total_shots_home|total_shots_away|shots_on_target_home|shots_on_target_away|duels_won_home|duels_won_away|         events_list|         lineup_home|         lineup_away|\n",
      "+-------------+--------+-----+---------------+---------------+--------------+--------------+---------------+---------------+---------------+---------------+----------------+----------------+--------------------+--------------------+--------------+--------------+--------------------+--------------------+--------------------+\n",
      "|       Final |11072021| True|              3|              2|        Italy |      England |              1|              1|            66%|           34% |              19|              6 |                   6|                  2 |           53%|          47% |\"[{'event_team': ...| 'event_type': 'G...| 'action_player_1...|\n",
      "| Semi-finals | 7072021|False|           null|           null|      England |      Denmark |              2|              1|            59%|           41% |              20|              6 |                  10|                  3 |           50%|          50% |\"[{'event_team': ...| 'event_type': 'G...| 'action_player_1...|\n",
      "+-------------+--------+-----+---------------+---------------+--------------+--------------+---------------+---------------+---------------+---------------+----------------+----------------+--------------------+--------------------+--------------+--------------+--------------------+--------------------+--------------------+\n",
      "only showing top 2 rows\n",
      "\n",
      "root\n",
      " |-- stage: string (nullable = true)\n",
      " |-- date: integer (nullable = true)\n",
      " |-- pens: string (nullable = true)\n",
      " |-- pens_home_score: integer (nullable = true)\n",
      " |-- pens_away_score: integer (nullable = true)\n",
      " |-- team_name_home: string (nullable = true)\n",
      " |-- team_name_away: string (nullable = true)\n",
      " |-- team_home_score: integer (nullable = true)\n",
      " |-- team_away_score: integer (nullable = true)\n",
      " |-- possession_home: string (nullable = true)\n",
      " |-- possession_away: string (nullable = true)\n",
      " |-- total_shots_home: integer (nullable = true)\n",
      " |-- total_shots_away: string (nullable = true)\n",
      " |-- shots_on_target_home: integer (nullable = true)\n",
      " |-- shots_on_target_away: string (nullable = true)\n",
      " |-- duels_won_home: string (nullable = true)\n",
      " |-- duels_won_away: string (nullable = true)\n",
      " |-- events_list: string (nullable = true)\n",
      " |-- lineup_home: string (nullable = true)\n",
      " |-- lineup_away: string (nullable = true)\n",
      "\n"
     ]
    }
   ],
   "source": [
    "df_infer5.show(2)\n",
    "df_infer5.printSchema()"
   ]
  },
  {
   "cell_type": "code",
   "execution_count": 10,
   "metadata": {},
   "outputs": [
    {
     "name": "stdout",
     "output_type": "stream",
     "text": [
      "+----+------------+-------------+------------------+---------------+--------------------+-------------+\n",
      "|Rank|Account Name|Account Owner|Brand Account(Y/N)|Followers(in M)|          Occupation|      Country|\n",
      "+----+------------+-------------+------------------+---------------+--------------------+-------------+\n",
      "|   1|@BarackObama| Barack Obama|                 N|          133.4|44th President of...|United States|\n",
      "|   2|   @elonmusk|    Elon Musk|                 N|          123.3|Business magnate,...| South Africa|\n",
      "+----+------------+-------------+------------------+---------------+--------------------+-------------+\n",
      "only showing top 2 rows\n",
      "\n",
      "root\n",
      " |-- Rank: integer (nullable = true)\n",
      " |-- Account Name: string (nullable = true)\n",
      " |-- Account Owner: string (nullable = true)\n",
      " |-- Brand Account(Y/N): string (nullable = true)\n",
      " |-- Followers(in M): double (nullable = true)\n",
      " |-- Occupation: string (nullable = true)\n",
      " |-- Country: string (nullable = true)\n",
      "\n"
     ]
    }
   ],
   "source": [
    "df_infer6.show(2)\n",
    "df_infer6.printSchema()"
   ]
  },
  {
   "cell_type": "code",
   "execution_count": 11,
   "metadata": {},
   "outputs": [
    {
     "name": "stdout",
     "output_type": "stream",
     "text": [
      "+----------+--------------+-----+----+----+--------+-------+------+\n",
      "|Airline ID|          Name|Alias|IATA|ICAO|Callsign|Country|Active|\n",
      "+----------+--------------+-----+----+----+--------+-------+------+\n",
      "|        -1|       Unknown|   \\N|   -| N/A|      \\N|     \\N|     Y|\n",
      "|         1|Private flight|   \\N|   -| N/A|    null|   null|     Y|\n",
      "+----------+--------------+-----+----+----+--------+-------+------+\n",
      "only showing top 2 rows\n",
      "\n",
      "root\n",
      " |-- Airline ID: string (nullable = true)\n",
      " |-- Name: string (nullable = true)\n",
      " |-- Alias: string (nullable = true)\n",
      " |-- IATA: string (nullable = true)\n",
      " |-- ICAO: string (nullable = true)\n",
      " |-- Callsign: string (nullable = true)\n",
      " |-- Country: string (nullable = true)\n",
      " |-- Active: string (nullable = true)\n",
      "\n"
     ]
    }
   ],
   "source": [
    "df_infer7.show(2)\n",
    "df_infer7.printSchema()"
   ]
  },
  {
   "cell_type": "code",
   "execution_count": 12,
   "metadata": {},
   "outputs": [
    {
     "name": "stdout",
     "output_type": "stream",
     "text": [
      "+-------+--------------+---------+--------------------+--------------+------+-----------------+----+-----+-----------+--------------------+--------------+----------------------+--------------------+--------------------+--------------------+--------------------+-----------+---------+---------------+------------------+\n",
      "|     id|         brand| category|                name|          size|rating|number_of_reviews|love|price|value_price|                 URL|MarketingFlags|MarketingFlags_content|             options|             details|          how_to_use|         ingredients|online_only|exclusive|limited_edition|limited_time_offer|\n",
      "+-------+--------------+---------+--------------------+--------------+------+-----------------+----+-----+-----------+--------------------+--------------+----------------------+--------------------+--------------------+--------------------+--------------------+-----------+---------+---------------+------------------+\n",
      "|2218774|Acqua Di Parma|Fragrance|Blu Mediterraneo ...|5 x 0.16oz/5mL|   4.0|                4|3002| 66.0|       75.0|https://www.sepho...|          True|           online only|          no options|This enchanting s...|Suggested Usage:-...|Arancia di Capri ...|          1|        0|              0|                 0|\n",
      "|2044816|Acqua Di Parma|  Cologne|             Colonia| 0.7 oz/ 20 mL|   4.5|               76|2700| 66.0|       66.0|https://www.sepho...|          True|           online only| - 0.7 oz/ 20 mL ...|An elegant timele...|     no instructions|             unknown|          1|        0|              0|                 0|\n",
      "+-------+--------------+---------+--------------------+--------------+------+-----------------+----+-----+-----------+--------------------+--------------+----------------------+--------------------+--------------------+--------------------+--------------------+-----------+---------+---------------+------------------+\n",
      "only showing top 2 rows\n",
      "\n",
      "root\n",
      " |-- id: integer (nullable = true)\n",
      " |-- brand: string (nullable = true)\n",
      " |-- category: string (nullable = true)\n",
      " |-- name: string (nullable = true)\n",
      " |-- size: string (nullable = true)\n",
      " |-- rating: double (nullable = true)\n",
      " |-- number_of_reviews: integer (nullable = true)\n",
      " |-- love: integer (nullable = true)\n",
      " |-- price: double (nullable = true)\n",
      " |-- value_price: double (nullable = true)\n",
      " |-- URL: string (nullable = true)\n",
      " |-- MarketingFlags: string (nullable = true)\n",
      " |-- MarketingFlags_content: string (nullable = true)\n",
      " |-- options: string (nullable = true)\n",
      " |-- details: string (nullable = true)\n",
      " |-- how_to_use: string (nullable = true)\n",
      " |-- ingredients: string (nullable = true)\n",
      " |-- online_only: integer (nullable = true)\n",
      " |-- exclusive: integer (nullable = true)\n",
      " |-- limited_edition: integer (nullable = true)\n",
      " |-- limited_time_offer: integer (nullable = true)\n",
      "\n"
     ]
    }
   ],
   "source": [
    "df_infer8.show(2)\n",
    "df_infer8.printSchema()"
   ]
  }
 ],
 "metadata": {
  "kernelspec": {
   "display_name": "Python 3",
   "language": "python",
   "name": "python3"
  },
  "language_info": {
   "codemirror_mode": {
    "name": "ipython",
    "version": 3
   },
   "file_extension": ".py",
   "mimetype": "text/x-python",
   "name": "python",
   "nbconvert_exporter": "python",
   "pygments_lexer": "ipython3",
   "version": "3.11.1"
  },
  "orig_nbformat": 4,
  "vscode": {
   "interpreter": {
    "hash": "5238573367df39f7286bb46f9ff5f08f63a01a80960060ce41e3c79b190280fa"
   }
  }
 },
 "nbformat": 4,
 "nbformat_minor": 2
}
