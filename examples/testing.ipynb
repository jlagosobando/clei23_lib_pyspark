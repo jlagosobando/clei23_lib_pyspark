{
 "cells": [
  {
   "cell_type": "code",
   "execution_count": 1,
   "id": "00bb8e4d",
   "metadata": {},
   "outputs": [],
   "source": [
    "import bdsanalytics as bds\n",
    "from pyspark.sql import SparkSession"
   ]
  },
  {
   "cell_type": "code",
   "execution_count": 5,
   "id": "7144ea29",
   "metadata": {},
   "outputs": [],
   "source": [
    "spark = SparkSession.builder.getOrCreate()"
   ]
  },
  {
   "cell_type": "code",
   "execution_count": 6,
   "id": "8a832bcf",
   "metadata": {},
   "outputs": [],
   "source": [
    "df_cars = spark.read.csv('csv/used_cars_data.csv' , header=True,inferSchema=True )"
   ]
  },
  {
   "cell_type": "code",
   "execution_count": 7,
   "id": "4c30202c",
   "metadata": {
    "scrolled": false
   },
   "outputs": [
    {
     "name": "stdout",
     "output_type": "stream",
     "text": [
      "+--------+---------------+-------+-------+------------------+---------------+------------------+--------+------------------+-----------------+------------------+\n",
      "|   brand|          model|t_count|sum__c0|           avg__c0|sum_price (eur)|   avg_price (eur)|sum_year|          avg_year|sum_mileage (kms)| avg_mileage (kms)|\n",
      "+--------+---------------+-------+-------+------------------+---------------+------------------+--------+------------------+-----------------+------------------+\n",
      "| Hyundai|            i20|      2|    844|             422.0|          25170|           12585.0|    4037|            2018.5|            70876|           35438.0|\n",
      "| Citroen|             C4|      5|   2102|             420.4|          42950|            8590.0|   10070|            2014.0|           684234|          136846.8|\n",
      "|     Kia|           Ceed|     11|   5108| 464.3636363636364|         160990|14635.454545454546|   22204|2018.5454545454545|           628993|57181.181818181816|\n",
      "| Hyundai|            i30|      6|   1343|223.83333333333334|          88410|           14735.0|   12102|            2017.0|           399143| 66523.83333333333|\n",
      "|   Dacia|          Logan|      2|    948|             474.0|          16980|            8490.0|    4031|            2015.5|            55340|           27670.0|\n",
      "|   Dacia|         Dokker|      3|   1656|             552.0|          33560|11186.666666666666|    6052|2017.3333333333333|           148348|49449.333333333336|\n",
      "|     BMW|             X1|      5|   2109|             421.8|          84900|           16980.0|   10077|            2015.4|           614320|          122864.0|\n",
      "|  Jaguar|             XF|      1|    544|             544.0|          10990|           10990.0|    2011|            2011.0|           163000|          163000.0|\n",
      "|    Jeep|       Wrangler|      2|    783|             391.5|          61980|           30990.0|    4019|            2009.5|           245020|          122510.0|\n",
      "| Citroen|    C4 Aircross|      1|    297|             297.0|          10990|           10990.0|    2012|            2012.0|            97500|           97500.0|\n",
      "|   Smart|         Fortwo|      2|    751|             375.5|          22980|           11490.0|    4033|            2016.5|           119680|           59840.0|\n",
      "|  Toyota|           C-HR|      5|   1022|             204.4|          90950|           18190.0|   10088|            2017.6|           400602|           80120.4|\n",
      "|    Ford|          C-Max|      1|    139|             139.0|          10990|           10990.0|    2015|            2015.0|           120597|          120597.0|\n",
      "|  Suzuki|         Vitara|      2|    932|             466.0|          32480|           16240.0|    4036|            2018.0|           159097|           79548.5|\n",
      "|  Jaguar|             XE|      1|    335|             335.0|          22990|           22990.0|    2019|            2019.0|            51080|           51080.0|\n",
      "|Mercedes| Benz Clase GLE|      1|    458|             458.0|          28990|           28990.0|    2016|            2016.0|           103500|          103500.0|\n",
      "|    Ford|           Kuga|     11|   4625|420.45454545454544|         166890|15171.818181818182|   22177| 2016.090909090909|           864136| 78557.81818181818|\n",
      "|    Audi|             Q2|      1|    661|             661.0|          21990|           21990.0|    2017|            2017.0|           106455|          106455.0|\n",
      "|    Ford|Transit Connect|      1|     35|              35.0|          12490|           12490.0|    2014|            2014.0|           126400|          126400.0|\n",
      "| Citroen|       Berlingo|      4|   1796|             449.0|          56460|           14115.0|    8066|            2016.5|           382400|           95600.0|\n",
      "+--------+---------------+-------+-------+------------------+---------------+------------------+--------+------------------+-----------------+------------------+\n",
      "only showing top 20 rows\n",
      "\n",
      "+--------+---------------+-------+-------+------------------+---------------+------------------+--------+------------------+-----------------+------------------+\n",
      "|   brand|          model|t_count|sum__c0|           avg__c0|sum_price (eur)|   avg_price (eur)|sum_year|          avg_year|sum_mileage (kms)| avg_mileage (kms)|\n",
      "+--------+---------------+-------+-------+------------------+---------------+------------------+--------+------------------+-----------------+------------------+\n",
      "| Hyundai|            i20|      2|    844|             422.0|          25170|           12585.0|    4037|            2018.5|            70876|           35438.0|\n",
      "| Citroen|             C4|      5|   2102|             420.4|          42950|            8590.0|   10070|            2014.0|           684234|          136846.8|\n",
      "|     Kia|           Ceed|     11|   5108| 464.3636363636364|         160990|14635.454545454546|   22204|2018.5454545454545|           628993|57181.181818181816|\n",
      "| Hyundai|            i30|      6|   1343|223.83333333333334|          88410|           14735.0|   12102|            2017.0|           399143| 66523.83333333333|\n",
      "|   Dacia|          Logan|      2|    948|             474.0|          16980|            8490.0|    4031|            2015.5|            55340|           27670.0|\n",
      "|   Dacia|         Dokker|      3|   1656|             552.0|          33560|11186.666666666666|    6052|2017.3333333333333|           148348|49449.333333333336|\n",
      "|     BMW|             X1|      5|   2109|             421.8|          84900|           16980.0|   10077|            2015.4|           614320|          122864.0|\n",
      "|  Jaguar|             XF|      1|    544|             544.0|          10990|           10990.0|    2011|            2011.0|           163000|          163000.0|\n",
      "|    Jeep|       Wrangler|      2|    783|             391.5|          61980|           30990.0|    4019|            2009.5|           245020|          122510.0|\n",
      "| Citroen|    C4 Aircross|      1|    297|             297.0|          10990|           10990.0|    2012|            2012.0|            97500|           97500.0|\n",
      "|   Smart|         Fortwo|      2|    751|             375.5|          22980|           11490.0|    4033|            2016.5|           119680|           59840.0|\n",
      "|  Toyota|           C-HR|      5|   1022|             204.4|          90950|           18190.0|   10088|            2017.6|           400602|           80120.4|\n",
      "|    Ford|          C-Max|      1|    139|             139.0|          10990|           10990.0|    2015|            2015.0|           120597|          120597.0|\n",
      "|  Suzuki|         Vitara|      2|    932|             466.0|          32480|           16240.0|    4036|            2018.0|           159097|           79548.5|\n",
      "|  Jaguar|             XE|      1|    335|             335.0|          22990|           22990.0|    2019|            2019.0|            51080|           51080.0|\n",
      "|Mercedes| Benz Clase GLE|      1|    458|             458.0|          28990|           28990.0|    2016|            2016.0|           103500|          103500.0|\n",
      "|    Ford|           Kuga|     11|   4625|420.45454545454544|         166890|15171.818181818182|   22177| 2016.090909090909|           864136| 78557.81818181818|\n",
      "|    Audi|             Q2|      1|    661|             661.0|          21990|           21990.0|    2017|            2017.0|           106455|          106455.0|\n",
      "|    Ford|Transit Connect|      1|     35|              35.0|          12490|           12490.0|    2014|            2014.0|           126400|          126400.0|\n",
      "| Citroen|       Berlingo|      4|   1796|             449.0|          56460|           14115.0|    8066|            2016.5|           382400|           95600.0|\n",
      "+--------+---------------+-------+-------+------------------+---------------+------------------+--------+------------------+-----------------+------------------+\n",
      "only showing top 20 rows\n",
      "\n"
     ]
    },
    {
     "name": "stderr",
     "output_type": "stream",
     "text": [
      "23/07/07 17:54:20 WARN CSVHeaderChecker: CSV header does not conform to the schema.\n",
      " Header: , brand, model, price (eur), year, mileage (kms)\n",
      " Schema: _c0, brand, model, price (eur), year, mileage (kms)\n",
      "Expected: _c0 but found: \n",
      "CSV file: file:///home/dsanmartin/Dropbox/jcl/clei23_lib_pyspark/notebooks/csv/used_cars_data.csv\n",
      "23/07/07 17:54:20 WARN CSVHeaderChecker: CSV header does not conform to the schema.\n",
      " Header: , brand, model, price (eur), year, mileage (kms)\n",
      " Schema: _c0, brand, model, price (eur), year, mileage (kms)\n",
      "Expected: _c0 but found: \n",
      "CSV file: file:///home/dsanmartin/Dropbox/jcl/clei23_lib_pyspark/notebooks/csv/used_cars_data.csv\n"
     ]
    }
   ],
   "source": [
    "lista1 = ['brand' , 'model']\n",
    "df_conteo1 = bds.group_count(df_cars , lista1)\n",
    "df_conteo1.show()"
   ]
  },
  {
   "cell_type": "code",
   "execution_count": null,
   "id": "df47e969",
   "metadata": {},
   "outputs": [],
   "source": []
  }
 ],
 "metadata": {
  "kernelspec": {
   "display_name": "Python 3 (ipykernel)",
   "language": "python",
   "name": "python3"
  },
  "language_info": {
   "codemirror_mode": {
    "name": "ipython",
    "version": 3
   },
   "file_extension": ".py",
   "mimetype": "text/x-python",
   "name": "python",
   "nbconvert_exporter": "python",
   "pygments_lexer": "ipython3",
   "version": "3.11.4"
  }
 },
 "nbformat": 4,
 "nbformat_minor": 5
}
